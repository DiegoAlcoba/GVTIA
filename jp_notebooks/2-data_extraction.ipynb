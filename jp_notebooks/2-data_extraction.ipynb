{
 "cells": [
  {
   "cell_type": "markdown",
   "metadata": {},
   "source": [
    "# Extracción de datos\n",
    "En este notebook se tratará la extracción de datos de sitios web como Reddit o Github, mediante APIs expresamente hechas por el sitio, o funciones de Python que servirán para realizar las peticiones.\n",
    "\n",
    "Para empezar, se cargarán los ajustes definidos en el apartado anterior junto con la importación de algunas librerías básicas necesarias para comenzar. "
   ]
  },
  {
   "cell_type": "code",
   "execution_count": 1,
   "metadata": {},
   "outputs": [
    {
     "name": "stdout",
     "output_type": "stream",
     "text": [
      "You are working on a local system.\n",
      "Files will be searched relative to \"..\".\n"
     ]
    }
   ],
   "source": [
    "import sys, os\n",
    "\n",
    "#Reset del entorno virtual al iniciar la ejecución\n",
    "%reset -f\n",
    "\n",
    "#Carga del archivo setup.py\n",
    "%run -i setup.py\n",
    "\n",
    "#Carga del archivo settings.py\n",
    "#%run \"$BASE_DIR/settings.py\"\n",
    "%reload_ext autoreload\n",
    "%autoreload 2\n",
    "%config InlineBackend.figure_format = 'png'"
   ]
  },
  {
   "cell_type": "markdown",
   "metadata": {},
   "source": [
    "## Extracción de datos con la librería *request*"
   ]
  },
  {
   "cell_type": "markdown",
   "metadata": {},
   "source": [
    "Para este primer ejemplo se va a hacer uso de la librería *request* que se incluye con la instalación de python. Esta librería es el método más básico para acceder y extraer información a través de una API, pero al mismo tiempo es una herramienta muy potente.\n",
    "\n",
    "Véamos a continuación como se realiza una petición GET en la que se tratará de listar todos los repositorios que cuenten con unas características  determinadas. En este caso, por ejemplo, vamos a listar todos los repositorios relacionados con el protocolo Zigbee que, al no usar el token de autenticación de un usuario registrado, nos devolverá aquellos repositorios que sean públicos, si se quieren listar también aquellos privados, hay que proporcionar el token de acceso."
   ]
  },
  {
   "cell_type": "code",
   "execution_count": 2,
   "metadata": {},
   "outputs": [
    {
     "name": "stdout",
     "output_type": "stream",
     "text": [
      "200\n"
     ]
    }
   ],
   "source": [
    "import requests\n",
    "import json\n",
    "\n",
    "response = requests.get('https://api.github.com/search/repositories',\n",
    "    params={'q': 'zigbee'},\n",
    "    headers={'Accept': 'application/vnd.github.v3.text-match+json'})\n",
    "\n",
    "print(response.status_code)\n",
    "#print(response.json())"
   ]
  },
  {
   "cell_type": "markdown",
   "metadata": {},
   "source": [
    "Para poder entender de forma más clara la lista de repositorios obtenida, vamos a dar formato Markdown al archivo json y se mostrarán los 5 primeros resultados de la respuesta obtenida:"
   ]
  },
  {
   "cell_type": "code",
   "execution_count": 3,
   "metadata": {},
   "outputs": [
    {
     "data": {
      "text/markdown": [
       "**zigbee2mqtt.io**: repository name - \"*zigbee2mqtt.io*\" matched with **zigbee2mqtt**"
      ],
      "text/plain": [
       "<IPython.core.display.Markdown object>"
      ]
     },
     "metadata": {},
     "output_type": "display_data"
    },
    {
     "data": {
      "text/markdown": [
       "**zigbee2mqtt**: repository description - \"*Zigbee 🐝 to MQTT bridge 🌉, get rid of your proprietary Zigbee bridges 🔨*\" matched with **Zigbee**"
      ],
      "text/plain": [
       "<IPython.core.display.Markdown object>"
      ]
     },
     "metadata": {},
     "output_type": "display_data"
    },
    {
     "data": {
      "text/markdown": [
       "**zigbee**: repository name - \"*zigbee*\" matched with **zigbee**"
      ],
      "text/plain": [
       "<IPython.core.display.Markdown object>"
      ]
     },
     "metadata": {},
     "output_type": "display_data"
    },
    {
     "data": {
      "text/markdown": [
       "**zigbee-herdsman-converters**: repository description - \"*Collection of device converters to be used with zigbee-herdsman*\" matched with **zigbee**"
      ],
      "text/plain": [
       "<IPython.core.display.Markdown object>"
      ]
     },
     "metadata": {},
     "output_type": "display_data"
    },
    {
     "data": {
      "text/markdown": [
       "**hassio-zigbee2mqtt**: repository name - \"*hassio-zigbee2mqtt*\" matched with **zigbee2mqtt**"
      ],
      "text/plain": [
       "<IPython.core.display.Markdown object>"
      ]
     },
     "metadata": {},
     "output_type": "display_data"
    }
   ],
   "source": [
    "from IPython.display import Markdown, display\n",
    "\n",
    "def printmd(string):\n",
    "    display(Markdown(string))\n",
    "\n",
    "for item in response.json()['items'][:5]:\n",
    "    printmd('**' + item['name'] + '**' + ': repository ' +\n",
    "            item['text_matches'][0]['property'] + ' - \\\"*' +\n",
    "            item['text_matches'][0]['fragment'] + '*\\\" matched with ' + '**' +\n",
    "            item['text_matches'][0]['matches'][0]['text'] + '**')"
   ]
  },
  {
   "cell_type": "markdown",
   "metadata": {},
   "source": [
    "### Listar comentarios del apartado *Issues* de un repositorio\n",
    "Es posible listar todos los comentarios del apartado Issues de un repositorio si así se especifica en la petición el nombre del repositorio y el dueño del mismo:"
   ]
  },
  {
   "cell_type": "code",
   "execution_count": 4,
   "metadata": {},
   "outputs": [
    {
     "name": "stdout",
     "output_type": "stream",
     "text": [
      "Response Code 403\n",
      "Number of comments 2\n"
     ]
    }
   ],
   "source": [
    "response = requests.get(\n",
    "    'https://api.github.com/repos/zigbee2mqtt/hassio-zigbee2mqtt/issues/comments')\n",
    "print('Response Code', response.status_code)\n",
    "print('Number of comments', len(response.json()))"
   ]
  },
  {
   "cell_type": "markdown",
   "metadata": {},
   "source": [
    "Se observa que únicamente ha recopilado 30 comentarios, esto es porque la API de github limita el número de elementos para cada respuesta. Si mostramos por pantalla los enlaces de la respuesta obtendremos el número de páginas contenidas en la respuesta."
   ]
  },
  {
   "cell_type": "code",
   "execution_count": 5,
   "metadata": {},
   "outputs": [
    {
     "data": {
      "text/plain": [
       "{}"
      ]
     },
     "execution_count": 5,
     "metadata": {},
     "output_type": "execute_result"
    }
   ],
   "source": [
    "response.links"
   ]
  },
  {
   "cell_type": "markdown",
   "metadata": {},
   "source": [
    "### Paginación\n",
    "Se usa la paginación para limitar el número de elementos en una que se devolverán tras una petición.\n",
    "\n",
    "Al mostrar los links de *response* se ve que proporciona el enlace a la siguiente página a la respuesta y a la última del total.\n",
    "\n",
    "Para obtener todos los resultados se debe definir una función que llame a la siguiente página, y así hasta que se hayan procesado todas de forma recursiva.\n",
    "\n",
    "Del mismo modo, importaremos *Pandas* a nuestro código para transformar los datos obtenidos en un Data Frame.\n",
    "\n",
    "En el siguiente ejemplo se muestra lo anteriormente explicado además de mostras por pantalla el número de filas que se desee del Data Frame:"
   ]
  },
  {
   "cell_type": "code",
   "execution_count": 6,
   "metadata": {},
   "outputs": [
    {
     "ename": "KeyError",
     "evalue": "'body'",
     "output_type": "error",
     "traceback": [
      "\u001b[0;31m---------------------------------------------------------------------------\u001b[0m",
      "\u001b[0;31mKeyError\u001b[0m                                  Traceback (most recent call last)",
      "Cell \u001b[0;32mIn[6], line 31\u001b[0m\n\u001b[1;32m     28\u001b[0m pd\u001b[38;5;241m.\u001b[39mset_option(\u001b[38;5;124m'\u001b[39m\u001b[38;5;124mdisplay.max_colwidth\u001b[39m\u001b[38;5;124m'\u001b[39m, \u001b[38;5;241m1\u001b[39m)\n\u001b[1;32m     30\u001b[0m \u001b[38;5;66;03m# #Muestra por pantalla el total de resultados\u001b[39;00m\n\u001b[0;32m---> 31\u001b[0m \u001b[38;5;28mprint\u001b[39m(\u001b[43mdf\u001b[49m\u001b[43m[\u001b[49m\u001b[38;5;124;43m'\u001b[39;49m\u001b[38;5;124;43mbody\u001b[39;49m\u001b[38;5;124;43m'\u001b[39;49m\u001b[43m]\u001b[49m\u001b[38;5;241m.\u001b[39mcount())\n\u001b[1;32m     33\u001b[0m \u001b[38;5;66;03m# #Muestra por pantalla algún ejemplo de los resultados obtenidos\u001b[39;00m\n\u001b[1;32m     34\u001b[0m df[[\u001b[38;5;124m'\u001b[39m\u001b[38;5;124mid\u001b[39m\u001b[38;5;124m'\u001b[39m, \u001b[38;5;124m'\u001b[39m\u001b[38;5;124mcreated_at\u001b[39m\u001b[38;5;124m'\u001b[39m, \u001b[38;5;124m'\u001b[39m\u001b[38;5;124mbody\u001b[39m\u001b[38;5;124m'\u001b[39m]]\u001b[38;5;241m.\u001b[39msample(\u001b[38;5;241m10\u001b[39m, random_state\u001b[38;5;241m=\u001b[39m\u001b[38;5;241m42\u001b[39m)\n",
      "File \u001b[0;32m~/Clase/GVTIA/.venv/lib/python3.12/site-packages/pandas/core/frame.py:4102\u001b[0m, in \u001b[0;36mDataFrame.__getitem__\u001b[0;34m(self, key)\u001b[0m\n\u001b[1;32m   4100\u001b[0m \u001b[38;5;28;01mif\u001b[39;00m \u001b[38;5;28mself\u001b[39m\u001b[38;5;241m.\u001b[39mcolumns\u001b[38;5;241m.\u001b[39mnlevels \u001b[38;5;241m>\u001b[39m \u001b[38;5;241m1\u001b[39m:\n\u001b[1;32m   4101\u001b[0m     \u001b[38;5;28;01mreturn\u001b[39;00m \u001b[38;5;28mself\u001b[39m\u001b[38;5;241m.\u001b[39m_getitem_multilevel(key)\n\u001b[0;32m-> 4102\u001b[0m indexer \u001b[38;5;241m=\u001b[39m \u001b[38;5;28;43mself\u001b[39;49m\u001b[38;5;241;43m.\u001b[39;49m\u001b[43mcolumns\u001b[49m\u001b[38;5;241;43m.\u001b[39;49m\u001b[43mget_loc\u001b[49m\u001b[43m(\u001b[49m\u001b[43mkey\u001b[49m\u001b[43m)\u001b[49m\n\u001b[1;32m   4103\u001b[0m \u001b[38;5;28;01mif\u001b[39;00m is_integer(indexer):\n\u001b[1;32m   4104\u001b[0m     indexer \u001b[38;5;241m=\u001b[39m [indexer]\n",
      "File \u001b[0;32m~/Clase/GVTIA/.venv/lib/python3.12/site-packages/pandas/core/indexes/range.py:417\u001b[0m, in \u001b[0;36mRangeIndex.get_loc\u001b[0;34m(self, key)\u001b[0m\n\u001b[1;32m    415\u001b[0m         \u001b[38;5;28;01mraise\u001b[39;00m \u001b[38;5;167;01mKeyError\u001b[39;00m(key) \u001b[38;5;28;01mfrom\u001b[39;00m \u001b[38;5;21;01merr\u001b[39;00m\n\u001b[1;32m    416\u001b[0m \u001b[38;5;28;01mif\u001b[39;00m \u001b[38;5;28misinstance\u001b[39m(key, Hashable):\n\u001b[0;32m--> 417\u001b[0m     \u001b[38;5;28;01mraise\u001b[39;00m \u001b[38;5;167;01mKeyError\u001b[39;00m(key)\n\u001b[1;32m    418\u001b[0m \u001b[38;5;28mself\u001b[39m\u001b[38;5;241m.\u001b[39m_check_indexing_error(key)\n\u001b[1;32m    419\u001b[0m \u001b[38;5;28;01mraise\u001b[39;00m \u001b[38;5;167;01mKeyError\u001b[39;00m(key)\n",
      "\u001b[0;31mKeyError\u001b[0m: 'body'"
     ]
    }
   ],
   "source": [
    "import pandas as pd\n",
    "\n",
    "def get_all_pages(url, params=None, headers=None):\n",
    "    output_json = []\n",
    "    response = requests.get(url, params=params, headers=headers)\n",
    "    if response.status_code == 200:\n",
    "        output_json = response.json()\n",
    "        if 'next' in response.links:\n",
    "            next_url = response.links['next']['url']\n",
    "            if next_url is not None:\n",
    "                output_json += get_all_pages(next_url, params, headers)\n",
    "    return output_json\n",
    "\n",
    "\n",
    "out = get_all_pages(\n",
    "    \"https://api.github.com/repos/zigbee2mqtt/hassio-zigbee2mqtt/issues/comments\",\n",
    "    params={\n",
    "        #Como parámetros indicamos la fecha desde la cuál queremos obtener los resultados,\n",
    "        #el orden (de creación) y la dirección\n",
    "        'since': '2020-07-01T10:00:01Z',\n",
    "        'sorted': 'created',\n",
    "        'direction': 'desc'\n",
    "    },\n",
    "    headers={'Accept': 'application/vnd.github.v3+json'})\n",
    "\n",
    "#Los resultados obtenidos los transformamos en un Data Frame para su posterior análisis\n",
    "df = pd.DataFrame(out)\n",
    "pd.set_option('display.max_colwidth', 1)\n",
    "\n",
    "# #Muestra por pantalla el total de resultados\n",
    "print(df['body'].count())\n",
    "\n",
    "# #Muestra por pantalla algún ejemplo de los resultados obtenidos\n",
    "df[['id', 'created_at', 'body']].sample(10, random_state=42)"
   ]
  },
  {
   "cell_type": "markdown",
   "metadata": {},
   "source": [
    "**La razón por la que aparece este error en la ejecución es porque se ha superado el límite de peticiones y la respuesta es vacía. Esto se solventa en los siguientes apartados, en los que se usa un token de autenticación para un mayor límite y poder realizar diversas ejecuciones asegurando obtener una respuesta**"
   ]
  },
  {
   "cell_type": "markdown",
   "metadata": {},
   "source": [
    "### Límites de las APIs\n",
    "Las APIs tienen un límite a la hora de devolver los resultados, por ejemplo, se pueden haber obtenido 400 comentarios, pero si se accede al sitio del que estos han sido extraídos, cabe la posibilidad de que el total sea ampliamente mayor.\n",
    "\n",
    "Por esto, se va a definir una función que impida sobrecargar el servidor al que se le realizan las peticiones, disminuyendo la velocidad entre una petición y la siguiente y asegurarnos de que toda la información que se ha solicitado sea descargada correctamente."
   ]
  },
  {
   "cell_type": "code",
   "execution_count": 7,
   "metadata": {},
   "outputs": [],
   "source": [
    "from datetime import datetime\n",
    "import time\n",
    "\n",
    "def handle_rate_limits(response):\n",
    "    now = datetime.now()\n",
    "    reset_time = datetime.fromtimestamp(\n",
    "        #X_RateLimit indica cuántas peticiones se puden realizar por unidad de tiempo\n",
    "        int(response.headers['X-RateLimit-Reset']))\n",
    "    \n",
    "    #X-RateLimit-Remaining indica cuántas peticiones pueden aún hacerse\n",
    "    #sin superar el límite establecido\n",
    "    remaining_requests = response.headers['X-RateLimit-Remaining']\n",
    "    remaining_time = (reset_time - now).total_seconds()\n",
    "    intervals = remaining_time / (1.0 + int(remaining_requests))\n",
    "\n",
    "    print('Esperando por ', intervals)\n",
    "    time.sleep(intervals)\n",
    "\n",
    "    return True"
   ]
  },
  {
   "cell_type": "markdown",
   "metadata": {},
   "source": [
    "La librería *requests* no contempla una función que permita reintentar la petición en caso de error, aún con esto, se puede implementar gracias a la librería *HTTPAdapter*."
   ]
  },
  {
   "cell_type": "code",
   "execution_count": 8,
   "metadata": {},
   "outputs": [
    {
     "name": "stdout",
     "output_type": "stream",
     "text": [
      "zigbee2mqtt.io\n",
      "zigbee2mqtt\n",
      "zigbee\n",
      "zigbee-herdsman-converters\n",
      "hassio-zigbee2mqtt\n"
     ]
    }
   ],
   "source": [
    "from requests.adapters import HTTPAdapter\n",
    "from urllib3.util import Retry\n",
    "\n",
    "retry = Retry(\n",
    "    #5 reintentos\n",
    "    total=5,\n",
    "    #Códigos de erros los cuáles si se reciben, se reintentará\n",
    "    status_forcelist=[500, 503, 504],\n",
    "    #Retraso entre reintentos después del segundo intento\n",
    "    backoff_factor=1\n",
    ")\n",
    "\n",
    "retry_adapter = HTTPAdapter(max_retries=retry)\n",
    "\n",
    "http = requests.Session()\n",
    "http.mount(\"https://\", retry_adapter)\n",
    "http.mount(\"https://\", retry_adapter)\n",
    "\n",
    "response = http.get('https://api.github.com/search/repositories',\n",
    "                    params={'q': 'zigbee'})\n",
    "\n",
    "for item in response.json()['items'][:5]:\n",
    "    print(item['name'])"
   ]
  },
  {
   "cell_type": "markdown",
   "metadata": {},
   "source": [
    "Juntando las funciones definidas en el apartado de paginación junto con las definidas en este último, quedaría como resultado algo así:"
   ]
  },
  {
   "cell_type": "code",
   "execution_count": null,
   "metadata": {},
   "outputs": [
    {
     "data": {
      "text/html": [
       "<div>\n",
       "<style scoped>\n",
       "    .dataframe tbody tr th:only-of-type {\n",
       "        vertical-align: middle;\n",
       "    }\n",
       "\n",
       "    .dataframe tbody tr th {\n",
       "        vertical-align: top;\n",
       "    }\n",
       "\n",
       "    .dataframe thead th {\n",
       "        text-align: right;\n",
       "    }\n",
       "</style>\n",
       "<table border=\"1\" class=\"dataframe\">\n",
       "  <thead>\n",
       "    <tr style=\"text-align: right;\">\n",
       "      <th></th>\n",
       "      <th>id</th>\n",
       "      <th>created_at</th>\n",
       "      <th>body</th>\n",
       "    </tr>\n",
       "  </thead>\n",
       "  <tbody>\n",
       "    <tr>\n",
       "      <th>840</th>\n",
       "      <td>1620375319</td>\n",
       "      <td>2023-07-04T14:39:43Z</td>\n",
       "      <td>@fthiery you will need 2 coordinators to start the second instance, devices not, you can manually edit data/database.db and add entries from your prod setup.</td>\n",
       "    </tr>\n",
       "    <tr>\n",
       "      <th>2234</th>\n",
       "      <td>897745813</td>\n",
       "      <td>2021-08-12T15:41:55Z</td>\n",
       "      <td>Can I close this issue? Or is it still relevant?</td>\n",
       "    </tr>\n",
       "    <tr>\n",
       "      <th>443</th>\n",
       "      <td>2081183179</td>\n",
       "      <td>2024-04-27T21:09:04Z</td>\n",
       "      <td>I am having this exact log output and fail to start after trying to move my Sonoff Zigbee stick over to a Remote Adapter using ser2net on a raspberry pi. Any luck on this? I can't seem to find anything.</td>\n",
       "    </tr>\n",
       "    <tr>\n",
       "      <th>836</th>\n",
       "      <td>1621714839</td>\n",
       "      <td>2023-07-05T13:02:33Z</td>\n",
       "      <td>&gt; I was able to fix this from the terminal, here's what I did:\\r\\n&gt; \\r\\n&gt; ```\\r\\n&gt; cp -Rp /root/config/zigbee2mqtt /root/config/zigbee2mqtt.bak\\r\\n&gt; cp -Rp /root/config/zigbee.db /root/config/zigbee.db.bak #  probably not needed\\r\\n&gt; \\r\\n&gt; # Uninstall add-on from the GUI\\r\\n&gt; \\r\\n&gt; # Re-Install add-on from the GUI\\r\\n&gt; \\r\\n&gt; # Stop the add-on from the GUI\\r\\n&gt; \\r\\n&gt; cp -Rp /root/config/zigbee2mqtt.bak/* /root/config/zigbee2mqtt/\\r\\n&gt; \\r\\n&gt; # Start the add-on from the GUI\\r\\n&gt; ```\\r\\n&gt; \\r\\n&gt; My configuration was preserved. I dunno if this is the cleanest solution, but there it is.\\r\\n\\r\\nhave to add back manually the configuration settings and it's working again !</td>\n",
       "    </tr>\n",
       "    <tr>\n",
       "      <th>2589</th>\n",
       "      <td>786512624</td>\n",
       "      <td>2021-02-26T09:07:35Z</td>\n",
       "      <td>stupid me used the new config file and never changed log output to info.</td>\n",
       "    </tr>\n",
       "  </tbody>\n",
       "</table>\n",
       "</div>"
      ],
      "text/plain": [
       "              id            created_at  \\\n",
       "840   1620375319  2023-07-04T14:39:43Z   \n",
       "2234  897745813   2021-08-12T15:41:55Z   \n",
       "443   2081183179  2024-04-27T21:09:04Z   \n",
       "836   1621714839  2023-07-05T13:02:33Z   \n",
       "2589  786512624   2021-02-26T09:07:35Z   \n",
       "\n",
       "                                                                                                                                                                                                                                                                                                                                                                                                                                                                                                                                                                                                                                                                                                 body  \n",
       "840   @fthiery you will need 2 coordinators to start the second instance, devices not, you can manually edit data/database.db and add entries from your prod setup.                                                                                                                                                                                                                                                                                                                                                                                                                                                                                                                                    \n",
       "2234  Can I close this issue? Or is it still relevant?                                                                                                                                                                                                                                                                                                                                                                                                                                                                                                                                                                                                                                                 \n",
       "443   I am having this exact log output and fail to start after trying to move my Sonoff Zigbee stick over to a Remote Adapter using ser2net on a raspberry pi. Any luck on this? I can't seem to find anything.                                                                                                                                                                                                                                                                                                                                                                                                                                                                                       \n",
       "836   > I was able to fix this from the terminal, here's what I did:\\r\\n> \\r\\n> ```\\r\\n> cp -Rp /root/config/zigbee2mqtt /root/config/zigbee2mqtt.bak\\r\\n> cp -Rp /root/config/zigbee.db /root/config/zigbee.db.bak #  probably not needed\\r\\n> \\r\\n> # Uninstall add-on from the GUI\\r\\n> \\r\\n> # Re-Install add-on from the GUI\\r\\n> \\r\\n> # Stop the add-on from the GUI\\r\\n> \\r\\n> cp -Rp /root/config/zigbee2mqtt.bak/* /root/config/zigbee2mqtt/\\r\\n> \\r\\n> # Start the add-on from the GUI\\r\\n> ```\\r\\n> \\r\\n> My configuration was preserved. I dunno if this is the cleanest solution, but there it is.\\r\\n\\r\\nhave to add back manually the configuration settings and it's working again !  \n",
       "2589  stupid me used the new config file and never changed log output to info.                                                                                                                                                                                                                                                                                                                                                                                                                                                                                                                                                                                                                         "
      ]
     },
     "execution_count": 11,
     "metadata": {},
     "output_type": "execute_result"
    }
   ],
   "source": [
    "import pandas as pd\n",
    "from requests.adapters import HTTPAdapter\n",
    "from urllib3.util import Retry\n",
    "\n",
    "retry = Retry(\n",
    "    #5 reintentos\n",
    "    total=5,\n",
    "    #Códigos de erros los cuáles si se reciben, se reintentará\n",
    "    status_forcelist=[500, 503, 504],\n",
    "    #Retraso entre reintentos después del segundo intento\n",
    "    backoff_factor=1\n",
    ")\n",
    "\n",
    "retry_adapter = HTTPAdapter(max_retries=retry)\n",
    "\n",
    "http = requests.Session()\n",
    "http.mount(\"https://\", retry_adapter)\n",
    "http.mount(\"https://\", retry_adapter)\n",
    "\n",
    "def get_all_pages(url, params=None, headers=None):\n",
    "    output_json = []\n",
    "    response = requests.get(url, params=params, headers=headers)\n",
    "    if response.status_code == 200:\n",
    "        output_json = response.json()\n",
    "        if 'next' in response.links:\n",
    "            next_url = response.links['next']['url']\n",
    "            if next_url is not None:\n",
    "                output_json += get_all_pages(next_url, params, headers)\n",
    "    return output_json\n",
    "\n",
    "#Función que lee el token de autenticación de github de un .txt\n",
    "def load_token(filepath):\n",
    "    try:\n",
    "        with open(filepath, 'r', encoding='utf-8') as file:\n",
    "            token = file.read().strip()  # .strip() elimina espacios y saltos de línea\n",
    "            return token\n",
    "    except FileNotFoundError:\n",
    "        raise Exception(f\"El archivo {filepath} no se encontró. Asegúrate de que existe y contiene el token.\")\n",
    "\n",
    "token = load_token('token.txt')\n",
    "\n",
    "out = get_all_pages(\n",
    "    \"https://api.github.com/repos/zigbee2mqtt/hassio-zigbee2mqtt/issues/comments\",\n",
    "    params={\n",
    "        #Como parámetros indicamos la fecha desde la cuál queremos obtener los resultados,\n",
    "        #el orden (de creación) y la dirección\n",
    "        'since': '2020-07-01T10:00:01Z',\n",
    "        'sorted': 'created',\n",
    "        'direction': 'desc'\n",
    "    },\n",
    "    #Introduzco el token de autenticación para que no supere el número de peticiones y puede realizar varias ejecuciones seguidas\n",
    "    headers={'Authorization': f'token {token}',\n",
    "            'Accept': 'application/vnd.github.v3+json'}\n",
    "            )\n",
    "\n",
    "#Los resultados obtenidos los transformamos en un Data Frame para su posterior análisis\n",
    "df = pd.DataFrame(out)\n",
    "#Guardo el dataframe en formato csv/json para su uso en operaciones posteriores\n",
    "df.to_csv('output.csv', index=False)\n",
    "df.to_json('output.json', orient='records', lines=True)\n",
    "\n",
    "pd.set_option('display.max_colwidth', 1)\n",
    "\n",
    "# #Muestra por pantalla el total de resultados\n",
    "#print(df['body'].count())\n",
    "\n",
    "# #Muestra por pantalla algún ejemplo de los resultados obtenidos\n",
    "df[['id', 'created_at', 'body']].sample(5, random_state=42)"
   ]
  }
 ],
 "metadata": {
  "kernelspec": {
   "display_name": ".venv",
   "language": "python",
   "name": "python3"
  },
  "language_info": {
   "codemirror_mode": {
    "name": "ipython",
    "version": 3
   },
   "file_extension": ".py",
   "mimetype": "text/x-python",
   "name": "python",
   "nbconvert_exporter": "python",
   "pygments_lexer": "ipython3",
   "version": "3.12.7"
  }
 },
 "nbformat": 4,
 "nbformat_minor": 2
}
