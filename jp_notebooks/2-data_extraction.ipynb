{
 "cells": [
  {
   "cell_type": "markdown",
   "metadata": {},
   "source": [
    "# Extracción de datos\n",
    "En este notebook se tratará la extracción de datos de sitios web como Reddit o Github, mediante APIs expresamente hechas por el sitio, o funciones de Python que servirán para realizar las peticiones.\n",
    "\n",
    "Para empezar, se cargarán los ajustes definidos en el apartado anterior junto con la importación de algunas librerías básicas necesarias para comenzar. "
   ]
  },
  {
   "cell_type": "code",
   "execution_count": 6,
   "metadata": {},
   "outputs": [
    {
     "name": "stdout",
     "output_type": "stream",
     "text": [
      "You are working on a local system.\n",
      "Files will be searched relative to \"..\".\n"
     ]
    }
   ],
   "source": [
    "import sys, os\n",
    "\n",
    "#Carga del archivo setup.py\n",
    "%run -i setup.py\n",
    "\n",
    "#Carga del archivo settings.py\n",
    "#%run \"$BASE_DIR/settings.py\"\n",
    "%reload_ext autoreload\n",
    "%autoreload 2\n",
    "%config InlineBackend.figure_format = 'png'"
   ]
  },
  {
   "cell_type": "markdown",
   "metadata": {},
   "source": [
    "## Extracción de datos con la librería *request*"
   ]
  },
  {
   "cell_type": "markdown",
   "metadata": {},
   "source": [
    "Para este primer ejemplo se va a hacer uso de la librería *request* que se incluye con la instalación de python. Esta librería es el método más básico para acceder y extraer información a través de una API, pero al mismo tiempo es una herramienta muy potente.\n",
    "\n",
    "Véamos a continuación como se realiza una petición GET en la que se tratará de listar todos los repositorios que cuenten con unas características  determinadas. En este caso, por ejemplo, vamos a listar todos los repositorios relacionados con el protocolo Zigbee que, al no usar el token de autenticación de un usuario registrado, nos devolverá aquellos repositorios que sean públicos, si se quieren listar también aquellos privados, hay que proporcionar el token de acceso."
   ]
  },
  {
   "cell_type": "code",
   "execution_count": 7,
   "metadata": {},
   "outputs": [
    {
     "name": "stdout",
     "output_type": "stream",
     "text": [
      "200\n"
     ]
    }
   ],
   "source": [
    "import requests\n",
    "import json\n",
    "\n",
    "response = requests.get('https://api.github.com/search/repositories',\n",
    "    params={'q': 'zigbee'},\n",
    "    headers={'Accept': 'application/vnd.github.v3.text-match+json'})\n",
    "\n",
    "print(response.status_code)\n",
    "#print(response.json())"
   ]
  },
  {
   "cell_type": "markdown",
   "metadata": {},
   "source": [
    "Para poder entender de forma más clara la lista de repositorios obtenida, vamos a dar formato Markdown al archivo json y se mostrarán los 5 primeros resultados de la respuesta obtenida:"
   ]
  },
  {
   "cell_type": "code",
   "execution_count": 8,
   "metadata": {},
   "outputs": [
    {
     "data": {
      "text/markdown": [
       "**zigbee2mqtt.io**: repository name - \"*zigbee2mqtt.io*\" matched with **zigbee2mqtt**"
      ],
      "text/plain": [
       "<IPython.core.display.Markdown object>"
      ]
     },
     "metadata": {},
     "output_type": "display_data"
    },
    {
     "data": {
      "text/markdown": [
       "**zigbee2mqtt**: repository description - \"*Zigbee 🐝 to MQTT bridge 🌉, get rid of your proprietary Zigbee bridges 🔨*\" matched with **Zigbee**"
      ],
      "text/plain": [
       "<IPython.core.display.Markdown object>"
      ]
     },
     "metadata": {},
     "output_type": "display_data"
    },
    {
     "data": {
      "text/markdown": [
       "**zigbee**: repository name - \"*zigbee*\" matched with **zigbee**"
      ],
      "text/plain": [
       "<IPython.core.display.Markdown object>"
      ]
     },
     "metadata": {},
     "output_type": "display_data"
    },
    {
     "data": {
      "text/markdown": [
       "**zigbee-herdsman-converters**: repository description - \"*Collection of device converters to be used with zigbee-herdsman*\" matched with **zigbee**"
      ],
      "text/plain": [
       "<IPython.core.display.Markdown object>"
      ]
     },
     "metadata": {},
     "output_type": "display_data"
    },
    {
     "data": {
      "text/markdown": [
       "**hassio-zigbee2mqtt**: repository name - \"*hassio-zigbee2mqtt*\" matched with **zigbee2mqtt**"
      ],
      "text/plain": [
       "<IPython.core.display.Markdown object>"
      ]
     },
     "metadata": {},
     "output_type": "display_data"
    }
   ],
   "source": [
    "from IPython.display import Markdown, display\n",
    "\n",
    "def printmd(string):\n",
    "    display(Markdown(string))\n",
    "\n",
    "for item in response.json()['items'][:5]:\n",
    "    printmd('**' + item['name'] + '**' + ': repository ' +\n",
    "            item['text_matches'][0]['property'] + ' - \\\"*' +\n",
    "            item['text_matches'][0]['fragment'] + '*\\\" matched with ' + '**' +\n",
    "            item['text_matches'][0]['matches'][0]['text'] + '**')"
   ]
  },
  {
   "cell_type": "markdown",
   "metadata": {},
   "source": [
    "### Listar comentarios del apartado *Issues* de un repositorio\n",
    "Es posible listar todos los comentarios del apartado Issues de un repositorio si así se especifica en la petición el nombre del repositorio y el dueño del mismo:"
   ]
  },
  {
   "cell_type": "code",
   "execution_count": 9,
   "metadata": {},
   "outputs": [
    {
     "name": "stdout",
     "output_type": "stream",
     "text": [
      "Response Code 200\n",
      "Number of comments 30\n"
     ]
    }
   ],
   "source": [
    "response = requests.get(\n",
    "    'https://api.github.com/repos/zigbee2mqtt/hassio-zigbee2mqtt/issues/comments')\n",
    "print('Response Code', response.status_code)\n",
    "print('Number of comments', len(response.json()))"
   ]
  },
  {
   "cell_type": "markdown",
   "metadata": {},
   "source": [
    "Se observa que únicamente ha recopilado 30 comentarios, esto es porque la API de github limita el número de elementos para cada respuesta. Si mostramos por pantalla los enlaces de la respuesta obtendremos el número de páginas contenidas en la respuesta."
   ]
  },
  {
   "cell_type": "code",
   "execution_count": 10,
   "metadata": {},
   "outputs": [
    {
     "data": {
      "text/plain": [
       "{'next': {'url': 'https://api.github.com/repositories/302841413/issues/comments?page=2',\n",
       "  'rel': 'next'},\n",
       " 'last': {'url': 'https://api.github.com/repositories/302841413/issues/comments?page=90',\n",
       "  'rel': 'last'}}"
      ]
     },
     "execution_count": 10,
     "metadata": {},
     "output_type": "execute_result"
    }
   ],
   "source": [
    "response.links"
   ]
  },
  {
   "cell_type": "markdown",
   "metadata": {},
   "source": [
    "### Paginación\n",
    "Se usa la paginación para limitar el número de elementos en una que se devolverán tras una petición.\n",
    "\n",
    "Al mostrar los links de *response* se ve que proporciona el enlace a la siguiente página a la respuesta y a la última del total.\n",
    "\n",
    "Para obtener todos los resultados se debe definir una función que llame a la siguiente página, y así hasta que se hayan procesado todas de forma recursiva.\n",
    "\n",
    "Del mismo modo, importaremos *Pandas* a nuestro código para transformar los datos obtenidos en un Data Frame.\n",
    "\n",
    "En el siguiente ejemplo se muestra lo anteriormente explicado además de mostras por pantalla el número de filas que se desee del Data Frame:\n",
    "\n",
    "***Por alguna razón a veces me coge bien todos los comentarios y a veces no***"
   ]
  },
  {
   "cell_type": "code",
   "execution_count": 11,
   "metadata": {},
   "outputs": [
    {
     "name": "stdout",
     "output_type": "stream",
     "text": [
      "1770\n"
     ]
    },
    {
     "data": {
      "text/html": [
       "<div>\n",
       "<style scoped>\n",
       "    .dataframe tbody tr th:only-of-type {\n",
       "        vertical-align: middle;\n",
       "    }\n",
       "\n",
       "    .dataframe tbody tr th {\n",
       "        vertical-align: top;\n",
       "    }\n",
       "\n",
       "    .dataframe thead th {\n",
       "        text-align: right;\n",
       "    }\n",
       "</style>\n",
       "<table border=\"1\" class=\"dataframe\">\n",
       "  <thead>\n",
       "    <tr style=\"text-align: right;\">\n",
       "      <th></th>\n",
       "      <th>id</th>\n",
       "      <th>created_at</th>\n",
       "      <th>body</th>\n",
       "    </tr>\n",
       "  </thead>\n",
       "  <tbody>\n",
       "    <tr>\n",
       "      <th>974</th>\n",
       "      <td>1494575704</td>\n",
       "      <td>2023-04-03T15:53:42Z</td>\n",
       "      <td>Not all devices support reporting properly, if reporting is supported you have to use optimistic=true.</td>\n",
       "    </tr>\n",
       "    <tr>\n",
       "      <th>275</th>\n",
       "      <td>2303377137</td>\n",
       "      <td>2024-08-22T01:10:39Z</td>\n",
       "      <td>still present</td>\n",
       "    </tr>\n",
       "    <tr>\n",
       "      <th>411</th>\n",
       "      <td>2118999280</td>\n",
       "      <td>2024-05-18T20:47:05Z</td>\n",
       "      <td>I confirm, same problem.\\r\\nI'm not sure if this is because of zigbee2mqtt, but after launching the add-on, the Raspberry Pi actually began to freeze. No useful logs.\\r\\nHardware: Raspberry Pi 3 Model B+, Sonoff ZBDongle-E.\\r\\n\\r\\nI tried:\\r\\n- perform a completely clean installation of HASS OS without restoring a backup;\\r\\n- restore backups with earlier versions of zigbee2mqtt and HA where everything worked before;\\r\\n- change HASS OS to Raspberry Pi OS Lite;\\r\\n- change Sonoff ZBDongle-E firmware;\\r\\n- change Raspberry Pi.\\r\\nNo result.\\r\\n\\r\\nStrange facts:\\r\\n- if you start the Raspberry Pi and insert ZBDongle-E after loading, then zigbee2mqtt starts;\\r\\n- if you install ZHA, it works fine.</td>\n",
       "    </tr>\n",
       "    <tr>\n",
       "      <th>962</th>\n",
       "      <td>1500969933</td>\n",
       "      <td>2023-04-08T20:16:06Z</td>\n",
       "      <td>I think I fixed it by disabling bluetooth in the config.txt\\r\\n\\r\\ndtoverlay=disable-bt</td>\n",
       "    </tr>\n",
       "    <tr>\n",
       "      <th>518</th>\n",
       "      <td>1981707341</td>\n",
       "      <td>2024-03-06T20:15:49Z</td>\n",
       "      <td>an uninstall and reinstall of zigbee2mqtt fixed this issue, still don't know what caused it</td>\n",
       "    </tr>\n",
       "    <tr>\n",
       "      <th>1252</th>\n",
       "      <td>1322257341</td>\n",
       "      <td>2022-11-21T15:42:34Z</td>\n",
       "      <td>Not long before one of the switches got loose, I updated some of them through the OTA tab. Could this have any effect? Even now, I have switches with different refresh times working. And is it possible to somehow reset the firmware or update them forcibly? I also have Xiaomi Gateway 3, but these switches are also not connected to it.\\r\\n![image](https://user-images.githubusercontent.com/70881046/203096268-5202e218-e54d-4e1b-902b-500a57fa5306.png)\\r\\n</td>\n",
       "    </tr>\n",
       "    <tr>\n",
       "      <th>1085</th>\n",
       "      <td>1413537895</td>\n",
       "      <td>2023-02-02T10:48:33Z</td>\n",
       "      <td>Hello, \\r\\nI've got the same issue on a Raspberry Pi 4b with a ConBee II, running on HAOS.\\r\\nI removed the DeConz Add-on and the ZHA integration, reinstalled Z2M and Mosquitto. I made sure the ConBee II is plugged on a USB 2.0 port, with an extension cable. \\r\\nI modified multiple times the config, directly in the FileEditor but the error keeps happening and apparently blocks the connection to the MQTT server.\\r\\nI don't know what to do...\\r\\n\\r\\nHere is the config : \\r\\n\\r\\n```\\r\\ndata_path: /config/zigbee2mqtt\\r\\nsocat:\\r\\n  enabled: false\\r\\n  master: pty,raw,echo=0,link=/tmp/ttyZ2M,mode=777\\r\\n  slave: tcp-listen:8485,keepalive,nodelay,reuseaddr,keepidle=1,keepintvl=1,keepcnt=5\\r\\n  options: \"-d -d\"\\r\\n  log: false\\r\\nmqtt:\\r\\n  base_topic: zigbee2mqtt\\r\\n  server: mqtt://192.68.2.83:1883\\r\\n  user: USER\\r\\n  password: PASSWORD\\r\\nserial:\\r\\n  adapter: deconz\\r\\n  port: /dev/ttyACM0\\r\\nzigbee_herdsman_debug: true\\r\\n\\r\\n```\\r\\n</td>\n",
       "    </tr>\n",
       "    <tr>\n",
       "      <th>344</th>\n",
       "      <td>2202529650</td>\n",
       "      <td>2024-07-02T09:24:20Z</td>\n",
       "      <td>I dont have a group with those high IDs. I have up to 11 groups</td>\n",
       "    </tr>\n",
       "    <tr>\n",
       "      <th>1050</th>\n",
       "      <td>1429712939</td>\n",
       "      <td>2023-02-14T13:01:40Z</td>\n",
       "      <td>Hello\\r\\nNo solution at this time with and update....</td>\n",
       "    </tr>\n",
       "    <tr>\n",
       "      <th>1457</th>\n",
       "      <td>1207664454</td>\n",
       "      <td>2022-08-08T04:55:10Z</td>\n",
       "      <td>Keep alive</td>\n",
       "    </tr>\n",
       "  </tbody>\n",
       "</table>\n",
       "</div>"
      ],
      "text/plain": [
       "              id            created_at  \\\n",
       "974   1494575704  2023-04-03T15:53:42Z   \n",
       "275   2303377137  2024-08-22T01:10:39Z   \n",
       "411   2118999280  2024-05-18T20:47:05Z   \n",
       "962   1500969933  2023-04-08T20:16:06Z   \n",
       "518   1981707341  2024-03-06T20:15:49Z   \n",
       "1252  1322257341  2022-11-21T15:42:34Z   \n",
       "1085  1413537895  2023-02-02T10:48:33Z   \n",
       "344   2202529650  2024-07-02T09:24:20Z   \n",
       "1050  1429712939  2023-02-14T13:01:40Z   \n",
       "1457  1207664454  2022-08-08T04:55:10Z   \n",
       "\n",
       "                                                                                                                                                                                                                                                                                                                                                                                                                                                                                                                                                                                                                                                                                                                                                                                                                                                                                                                                                                                    body  \n",
       "974   Not all devices support reporting properly, if reporting is supported you have to use optimistic=true.                                                                                                                                                                                                                                                                                                                                                                                                                                                                                                                                                                                                                                                                                                                                                                                                                                                                              \n",
       "275   still present                                                                                                                                                                                                                                                                                                                                                                                                                                                                                                                                                                                                                                                                                                                                                                                                                                                                                                                                                                       \n",
       "411   I confirm, same problem.\\r\\nI'm not sure if this is because of zigbee2mqtt, but after launching the add-on, the Raspberry Pi actually began to freeze. No useful logs.\\r\\nHardware: Raspberry Pi 3 Model B+, Sonoff ZBDongle-E.\\r\\n\\r\\nI tried:\\r\\n- perform a completely clean installation of HASS OS without restoring a backup;\\r\\n- restore backups with earlier versions of zigbee2mqtt and HA where everything worked before;\\r\\n- change HASS OS to Raspberry Pi OS Lite;\\r\\n- change Sonoff ZBDongle-E firmware;\\r\\n- change Raspberry Pi.\\r\\nNo result.\\r\\n\\r\\nStrange facts:\\r\\n- if you start the Raspberry Pi and insert ZBDongle-E after loading, then zigbee2mqtt starts;\\r\\n- if you install ZHA, it works fine.                                                                                                                                                                                                                                                    \n",
       "962   I think I fixed it by disabling bluetooth in the config.txt\\r\\n\\r\\ndtoverlay=disable-bt                                                                                                                                                                                                                                                                                                                                                                                                                                                                                                                                                                                                                                                                                                                                                                                                                                                                                             \n",
       "518   an uninstall and reinstall of zigbee2mqtt fixed this issue, still don't know what caused it                                                                                                                                                                                                                                                                                                                                                                                                                                                                                                                                                                                                                                                                                                                                                                                                                                                                                         \n",
       "1252  Not long before one of the switches got loose, I updated some of them through the OTA tab. Could this have any effect? Even now, I have switches with different refresh times working. And is it possible to somehow reset the firmware or update them forcibly? I also have Xiaomi Gateway 3, but these switches are also not connected to it.\\r\\n![image](https://user-images.githubusercontent.com/70881046/203096268-5202e218-e54d-4e1b-902b-500a57fa5306.png)\\r\\n                                                                                                                                                                                                                                                                                                                                                                                                                                                                                                              \n",
       "1085  Hello, \\r\\nI've got the same issue on a Raspberry Pi 4b with a ConBee II, running on HAOS.\\r\\nI removed the DeConz Add-on and the ZHA integration, reinstalled Z2M and Mosquitto. I made sure the ConBee II is plugged on a USB 2.0 port, with an extension cable. \\r\\nI modified multiple times the config, directly in the FileEditor but the error keeps happening and apparently blocks the connection to the MQTT server.\\r\\nI don't know what to do...\\r\\n\\r\\nHere is the config : \\r\\n\\r\\n```\\r\\ndata_path: /config/zigbee2mqtt\\r\\nsocat:\\r\\n  enabled: false\\r\\n  master: pty,raw,echo=0,link=/tmp/ttyZ2M,mode=777\\r\\n  slave: tcp-listen:8485,keepalive,nodelay,reuseaddr,keepidle=1,keepintvl=1,keepcnt=5\\r\\n  options: \"-d -d\"\\r\\n  log: false\\r\\nmqtt:\\r\\n  base_topic: zigbee2mqtt\\r\\n  server: mqtt://192.68.2.83:1883\\r\\n  user: USER\\r\\n  password: PASSWORD\\r\\nserial:\\r\\n  adapter: deconz\\r\\n  port: /dev/ttyACM0\\r\\nzigbee_herdsman_debug: true\\r\\n\\r\\n```\\r\\n  \n",
       "344   I dont have a group with those high IDs. I have up to 11 groups                                                                                                                                                                                                                                                                                                                                                                                                                                                                                                                                                                                                                                                                                                                                                                                                                                                                                                                     \n",
       "1050  Hello\\r\\nNo solution at this time with and update....                                                                                                                                                                                                                                                                                                                                                                                                                                                                                                                                                                                                                                                                                                                                                                                                                                                                                                                               \n",
       "1457  Keep alive                                                                                                                                                                                                                                                                                                                                                                                                                                                                                                                                                                                                                                                                                                                                                                                                                                                                                                                                                                          "
      ]
     },
     "execution_count": 11,
     "metadata": {},
     "output_type": "execute_result"
    }
   ],
   "source": [
    "import pandas as pd\n",
    "\n",
    "def get_all_pages(url, params=None, headers=None):\n",
    "    output_json = []\n",
    "    response = requests.get(url, params=params, headers=headers)\n",
    "    if response.status_code == 200:\n",
    "        output_json = response.json()\n",
    "        if 'next' in response.links:\n",
    "            next_url = response.links['next']['url']\n",
    "            if next_url is not None:\n",
    "                output_json += get_all_pages(next_url, params, headers)\n",
    "    return output_json\n",
    "\n",
    "\n",
    "out = get_all_pages(\n",
    "    \"https://api.github.com/repos/zigbee2mqtt/hassio-zigbee2mqtt/issues/comments\",\n",
    "    params={\n",
    "        #Como parámetros indicamos la fecha desde la cuál queremos obtener los resultados,\n",
    "        #el orden (de creación) y la dirección\n",
    "        'since': '2020-07-01T10:00:01Z',\n",
    "        'sorted': 'created',\n",
    "        'direction': 'desc'\n",
    "    },\n",
    "    headers={'Accept': 'application/vnd.github.v3+json'})\n",
    "\n",
    "#Los resultados obtenidos los transformamos en un Data Frame para su posterior análisis\n",
    "df = pd.DataFrame(out)\n",
    "pd.set_option('display.max_colwidth', 1)\n",
    "\n",
    "# #Muestra por pantalla el total de resultados\n",
    "print(df['body'].count())\n",
    "\n",
    "# #Muestra por pantalla algún ejemplo de los resultados obtenidos\n",
    "df[['id', 'created_at', 'body']].sample(10, random_state=42)"
   ]
  },
  {
   "cell_type": "markdown",
   "metadata": {},
   "source": [
    "### Límites de las APIs\n",
    "Las APIs tienen un límite a la hora de devolver los resultados, por ejemplo, se pueden haber obtenido 400 comentarios, pero si se accede al sitio del que estos han sido extraídos, cabe la posibilidad de que el total sea ampliamente mayor.\n",
    "\n",
    "Por esto, se va a definir una función que impida sobrecargar el servidor al que se le realizan las peticiones, disminuyendo la velocidad entre una petición y la siguiente y asegurarnos de que toda la información que se ha solicitado sea descargada correctamente."
   ]
  },
  {
   "cell_type": "code",
   "execution_count": 12,
   "metadata": {},
   "outputs": [],
   "source": [
    "from datetime import datetime\n",
    "import time\n",
    "\n",
    "def handle_rate_limits(response):\n",
    "    now = datetime.now()\n",
    "    reset_time = datetime.fromtimestamp(\n",
    "        #X_RateLimit indica cuántas peticiones se puden realizar por unidad de tiempo\n",
    "        int(response.headers['X-RateLimit-Reset']))\n",
    "    \n",
    "    #X-RateLimit-Remaining indica cuántas peticiones pueden aún hacerse\n",
    "    #sin superar el límite establecido\n",
    "    remaining_requests = response.headers['X-RateLimit-Remaining']\n",
    "    remaining_time = (reset_time - now).total_seconds()\n",
    "    intervals = remaining_time / (1.0 + int(remaining_requests))\n",
    "\n",
    "    print('Esperando por ', intervals)\n",
    "    time.sleep(intervals)\n",
    "\n",
    "    return True"
   ]
  },
  {
   "cell_type": "markdown",
   "metadata": {},
   "source": [
    "La librería *requests* no contempla una función que permita reintentar la petición en caso de error, aún con esto, se puede implementar gracias a la librería *HTTPAdapter*."
   ]
  },
  {
   "cell_type": "code",
   "execution_count": 13,
   "metadata": {},
   "outputs": [
    {
     "name": "stdout",
     "output_type": "stream",
     "text": [
      "zigbee2mqtt.io\n",
      "zigbee2mqtt\n",
      "zigbee\n",
      "zigbee-herdsman-converters\n",
      "hassio-zigbee2mqtt\n"
     ]
    }
   ],
   "source": [
    "from requests.adapters import HTTPAdapter\n",
    "from urllib3.util import Retry\n",
    "\n",
    "retry = Retry(\n",
    "    #5 reintentos\n",
    "    total=5,\n",
    "    #Códigos de erros los cuáles si se reciben, se reintentará\n",
    "    status_forcelist=[500, 503, 504],\n",
    "    #Retraso entre reintentos después del segundo intento\n",
    "    backoff_factor=1\n",
    ")\n",
    "\n",
    "retry_adapter = HTTPAdapter(max_retries=retry)\n",
    "\n",
    "http = requests.Session()\n",
    "http.mount(\"https://\", retry_adapter)\n",
    "http.mount(\"https://\", retry_adapter)\n",
    "\n",
    "response = http.get('https://api.github.com/search/repositories',\n",
    "                    params={'q': 'zigbee'})\n",
    "\n",
    "for item in response.json()['items'][:5]:\n",
    "    print(item['name'])"
   ]
  },
  {
   "cell_type": "markdown",
   "metadata": {},
   "source": [
    "Juntando las funciones definidas en el apartado de paginación junto con las definidas en este último, quedaría como resultado algo así:"
   ]
  },
  {
   "cell_type": "code",
   "execution_count": 16,
   "metadata": {},
   "outputs": [
    {
     "ename": "KeyError",
     "evalue": "\"None of [Index(['id', 'created_at', 'body'], dtype='object')] are in the [columns]\"",
     "output_type": "error",
     "traceback": [
      "\u001b[0;31m---------------------------------------------------------------------------\u001b[0m",
      "\u001b[0;31mKeyError\u001b[0m                                  Traceback (most recent call last)",
      "Cell \u001b[0;32mIn[16], line 51\u001b[0m\n\u001b[1;32m     45\u001b[0m pd\u001b[38;5;241m.\u001b[39mset_option(\u001b[38;5;124m'\u001b[39m\u001b[38;5;124mdisplay.max_colwidth\u001b[39m\u001b[38;5;124m'\u001b[39m, \u001b[38;5;241m1\u001b[39m)\n\u001b[1;32m     47\u001b[0m \u001b[38;5;66;03m# #Muestra por pantalla el total de resultados\u001b[39;00m\n\u001b[1;32m     48\u001b[0m \u001b[38;5;66;03m#print(df['body'].count())\u001b[39;00m\n\u001b[1;32m     49\u001b[0m \n\u001b[1;32m     50\u001b[0m \u001b[38;5;66;03m# #Muestra por pantalla algún ejemplo de los resultados obtenidos\u001b[39;00m\n\u001b[0;32m---> 51\u001b[0m \u001b[43mdf\u001b[49m\u001b[43m[\u001b[49m\u001b[43m[\u001b[49m\u001b[38;5;124;43m'\u001b[39;49m\u001b[38;5;124;43mid\u001b[39;49m\u001b[38;5;124;43m'\u001b[39;49m\u001b[43m,\u001b[49m\u001b[43m \u001b[49m\u001b[38;5;124;43m'\u001b[39;49m\u001b[38;5;124;43mcreated_at\u001b[39;49m\u001b[38;5;124;43m'\u001b[39;49m\u001b[43m,\u001b[49m\u001b[43m \u001b[49m\u001b[38;5;124;43m'\u001b[39;49m\u001b[38;5;124;43mbody\u001b[39;49m\u001b[38;5;124;43m'\u001b[39;49m\u001b[43m]\u001b[49m\u001b[43m]\u001b[49m\u001b[38;5;241m.\u001b[39msample(\u001b[38;5;241m5\u001b[39m, random_state\u001b[38;5;241m=\u001b[39m\u001b[38;5;241m42\u001b[39m)\n",
      "File \u001b[0;32m~/Clase/GVTIA/.venv/lib/python3.12/site-packages/pandas/core/frame.py:4108\u001b[0m, in \u001b[0;36mDataFrame.__getitem__\u001b[0;34m(self, key)\u001b[0m\n\u001b[1;32m   4106\u001b[0m     \u001b[38;5;28;01mif\u001b[39;00m is_iterator(key):\n\u001b[1;32m   4107\u001b[0m         key \u001b[38;5;241m=\u001b[39m \u001b[38;5;28mlist\u001b[39m(key)\n\u001b[0;32m-> 4108\u001b[0m     indexer \u001b[38;5;241m=\u001b[39m \u001b[38;5;28;43mself\u001b[39;49m\u001b[38;5;241;43m.\u001b[39;49m\u001b[43mcolumns\u001b[49m\u001b[38;5;241;43m.\u001b[39;49m\u001b[43m_get_indexer_strict\u001b[49m\u001b[43m(\u001b[49m\u001b[43mkey\u001b[49m\u001b[43m,\u001b[49m\u001b[43m \u001b[49m\u001b[38;5;124;43m\"\u001b[39;49m\u001b[38;5;124;43mcolumns\u001b[39;49m\u001b[38;5;124;43m\"\u001b[39;49m\u001b[43m)\u001b[49m[\u001b[38;5;241m1\u001b[39m]\n\u001b[1;32m   4110\u001b[0m \u001b[38;5;66;03m# take() does not accept boolean indexers\u001b[39;00m\n\u001b[1;32m   4111\u001b[0m \u001b[38;5;28;01mif\u001b[39;00m \u001b[38;5;28mgetattr\u001b[39m(indexer, \u001b[38;5;124m\"\u001b[39m\u001b[38;5;124mdtype\u001b[39m\u001b[38;5;124m\"\u001b[39m, \u001b[38;5;28;01mNone\u001b[39;00m) \u001b[38;5;241m==\u001b[39m \u001b[38;5;28mbool\u001b[39m:\n",
      "File \u001b[0;32m~/Clase/GVTIA/.venv/lib/python3.12/site-packages/pandas/core/indexes/base.py:6200\u001b[0m, in \u001b[0;36mIndex._get_indexer_strict\u001b[0;34m(self, key, axis_name)\u001b[0m\n\u001b[1;32m   6197\u001b[0m \u001b[38;5;28;01melse\u001b[39;00m:\n\u001b[1;32m   6198\u001b[0m     keyarr, indexer, new_indexer \u001b[38;5;241m=\u001b[39m \u001b[38;5;28mself\u001b[39m\u001b[38;5;241m.\u001b[39m_reindex_non_unique(keyarr)\n\u001b[0;32m-> 6200\u001b[0m \u001b[38;5;28;43mself\u001b[39;49m\u001b[38;5;241;43m.\u001b[39;49m\u001b[43m_raise_if_missing\u001b[49m\u001b[43m(\u001b[49m\u001b[43mkeyarr\u001b[49m\u001b[43m,\u001b[49m\u001b[43m \u001b[49m\u001b[43mindexer\u001b[49m\u001b[43m,\u001b[49m\u001b[43m \u001b[49m\u001b[43maxis_name\u001b[49m\u001b[43m)\u001b[49m\n\u001b[1;32m   6202\u001b[0m keyarr \u001b[38;5;241m=\u001b[39m \u001b[38;5;28mself\u001b[39m\u001b[38;5;241m.\u001b[39mtake(indexer)\n\u001b[1;32m   6203\u001b[0m \u001b[38;5;28;01mif\u001b[39;00m \u001b[38;5;28misinstance\u001b[39m(key, Index):\n\u001b[1;32m   6204\u001b[0m     \u001b[38;5;66;03m# GH 42790 - Preserve name from an Index\u001b[39;00m\n",
      "File \u001b[0;32m~/Clase/GVTIA/.venv/lib/python3.12/site-packages/pandas/core/indexes/base.py:6249\u001b[0m, in \u001b[0;36mIndex._raise_if_missing\u001b[0;34m(self, key, indexer, axis_name)\u001b[0m\n\u001b[1;32m   6247\u001b[0m \u001b[38;5;28;01mif\u001b[39;00m nmissing:\n\u001b[1;32m   6248\u001b[0m     \u001b[38;5;28;01mif\u001b[39;00m nmissing \u001b[38;5;241m==\u001b[39m \u001b[38;5;28mlen\u001b[39m(indexer):\n\u001b[0;32m-> 6249\u001b[0m         \u001b[38;5;28;01mraise\u001b[39;00m \u001b[38;5;167;01mKeyError\u001b[39;00m(\u001b[38;5;124mf\u001b[39m\u001b[38;5;124m\"\u001b[39m\u001b[38;5;124mNone of [\u001b[39m\u001b[38;5;132;01m{\u001b[39;00mkey\u001b[38;5;132;01m}\u001b[39;00m\u001b[38;5;124m] are in the [\u001b[39m\u001b[38;5;132;01m{\u001b[39;00maxis_name\u001b[38;5;132;01m}\u001b[39;00m\u001b[38;5;124m]\u001b[39m\u001b[38;5;124m\"\u001b[39m)\n\u001b[1;32m   6251\u001b[0m     not_found \u001b[38;5;241m=\u001b[39m \u001b[38;5;28mlist\u001b[39m(ensure_index(key)[missing_mask\u001b[38;5;241m.\u001b[39mnonzero()[\u001b[38;5;241m0\u001b[39m]]\u001b[38;5;241m.\u001b[39munique())\n\u001b[1;32m   6252\u001b[0m     \u001b[38;5;28;01mraise\u001b[39;00m \u001b[38;5;167;01mKeyError\u001b[39;00m(\u001b[38;5;124mf\u001b[39m\u001b[38;5;124m\"\u001b[39m\u001b[38;5;132;01m{\u001b[39;00mnot_found\u001b[38;5;132;01m}\u001b[39;00m\u001b[38;5;124m not in index\u001b[39m\u001b[38;5;124m\"\u001b[39m)\n",
      "\u001b[0;31mKeyError\u001b[0m: \"None of [Index(['id', 'created_at', 'body'], dtype='object')] are in the [columns]\""
     ]
    }
   ],
   "source": [
    "import pandas as pd\n",
    "from requests.adapters import HTTPAdapter\n",
    "from urllib3.util import Retry\n",
    "\n",
    "retry = Retry(\n",
    "    #5 reintentos\n",
    "    total=5,\n",
    "    #Códigos de erros los cuáles si se reciben, se reintentará\n",
    "    status_forcelist=[500, 503, 504],\n",
    "    #Retraso entre reintentos después del segundo intento\n",
    "    backoff_factor=1\n",
    ")\n",
    "\n",
    "retry_adapter = HTTPAdapter(max_retries=retry)\n",
    "\n",
    "http = requests.Session()\n",
    "http.mount(\"https://\", retry_adapter)\n",
    "http.mount(\"https://\", retry_adapter)\n",
    "\n",
    "def get_all_pages(url, params=None, headers=None):\n",
    "    output_json = []\n",
    "    response = requests.get(url, params=params, headers=headers)\n",
    "    if response.status_code == 200:\n",
    "        output_json = response.json()\n",
    "        if 'next' in response.links:\n",
    "            next_url = response.links['next']['url']\n",
    "            if next_url is not None:\n",
    "                output_json += get_all_pages(next_url, params, headers)\n",
    "    return output_json\n",
    "\n",
    "\n",
    "out = get_all_pages(\n",
    "    \"https://api.github.com/repos/zigbee2mqtt/hassio-zigbee2mqtt/issues/comments\",\n",
    "    params={\n",
    "        #Como parámetros indicamos la fecha desde la cuál queremos obtener los resultados,\n",
    "        #el orden (de creación) y la dirección\n",
    "        'since': '2020-07-01T10:00:01Z',\n",
    "        'sorted': 'created',\n",
    "        'direction': 'desc'\n",
    "    },\n",
    "    headers={'Accept': 'application/vnd.github.v3+json'})\n",
    "\n",
    "#Los resultados obtenidos los transformamos en un Data Frame para su posterior análisis\n",
    "df = pd.DataFrame(out)\n",
    "pd.set_option('display.max_colwidth', 1)\n",
    "\n",
    "# #Muestra por pantalla el total de resultados\n",
    "#print(df['body'].count())\n",
    "\n",
    "# #Muestra por pantalla algún ejemplo de los resultados obtenidos\n",
    "df[['id', 'created_at', 'body']].sample(5, random_state=42)"
   ]
  }
 ],
 "metadata": {
  "kernelspec": {
   "display_name": ".venv",
   "language": "python",
   "name": "python3"
  },
  "language_info": {
   "codemirror_mode": {
    "name": "ipython",
    "version": 3
   },
   "file_extension": ".py",
   "mimetype": "text/x-python",
   "name": "python",
   "nbconvert_exporter": "python",
   "pygments_lexer": "ipython3",
   "version": "3.12.7"
  }
 },
 "nbformat": 4,
 "nbformat_minor": 2
}
