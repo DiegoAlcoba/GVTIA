{
 "cells": [
  {
   "cell_type": "markdown",
   "metadata": {},
   "source": [
    "# Algoritmos de Clasificación\n",
    "En este apartado se va a ver el proceso de clasificación de texto utilizando técnicas de aprendizaje supervisado. Se utilizará un data set distinto al usado hasta el momento, que cuenta con los reportes de bugs de *Java Development Tools Bug* y que servirá para predecir la clasificación que se le dará a cada uno de estos reportes."
   ]
  },
  {
   "cell_type": "markdown",
   "metadata": {},
   "source": [
    "Como siempre, se comienza definiendo los ajustes que tendrá el notebook a lo largo de su ejecución:"
   ]
  },
  {
   "cell_type": "code",
   "execution_count": 1,
   "metadata": {},
   "outputs": [
    {
     "name": "stdout",
     "output_type": "stream",
     "text": [
      "You are working on a local system.\n",
      "Files will be searched relative to \"..\".\n"
     ]
    }
   ],
   "source": [
    "import sys, os\n",
    "\n",
    "#Carga del archivo setup.py\n",
    "%run -i ../pyenv_settings/setup.py\n",
    "\n",
    "#Imports y configuraciones de gráficas\n",
    "%run \"$BASE_DIR/pyenv_settings/settings.py\"\n",
    "\n",
    "%reload_ext autoreload\n",
    "%autoreload 2\n",
    "%config InlineBackend.figure_format = 'png'\n",
    "\n",
    "# # to print output of all statements and not just the last\n",
    "from IPython.core.interactiveshell import InteractiveShell\n",
    "InteractiveShell.ast_node_interactivity = \"all\"\n",
    "\n",
    "# # otherwise text between $ signs will be interpreted as formula and printed in italic\n",
    "pd.set_option('display.html.use_mathjax', False)"
   ]
  },
  {
   "cell_type": "markdown",
   "metadata": {},
   "source": [
    "A continuación, se importarán la mayoría de bibliotecas y herramientas que se utilizarán a lo largo del notebook: "
   ]
  },
  {
   "cell_type": "code",
   "execution_count": 3,
   "metadata": {},
   "outputs": [],
   "source": [
    "import matplotlib.pyplot as plt\n",
    "import html \n",
    "import re\n",
    "from sklearn.model_selection import train_test_split\n",
    "from sklearn.feature_extraction.text import TfidfVectorizer\n",
    "from sklearn.svm import SVC\n",
    "from sklearn.metrics import accuracy_score\n",
    "from sklearn.metrics import confusion_matrix\n",
    "from sklearn.metrics import classification_report\n",
    "## Depracated:\n",
    "# from sklearn.metrics import plot_confusion_matrix\n",
    "## New version:\n",
    "from sklearn.metrics import ConfusionMatrixDisplay\n",
    "from sklearn.model_selection import cross_val_score\n",
    "from sklearn.pipeline import Pipeline\n",
    "from sklearn.model_selection import GridSearchCV\n",
    "from sklearn.svm import LinearSVC\n",
    "from sklearn.dummy import DummyClassifier"
   ]
  },
  {
   "cell_type": "markdown",
   "metadata": {},
   "source": [
    "Ahora se importará el Dataset que se utilizará para realizar la tarea. Este se ha descargado desde el repositorio de github https://github.com/logpai/bughub/blob/master/JDT/eclipse_jdt.csv y se ha incluido en la carpeta *data* del directorio del proyecto."
   ]
  },
  {
   "cell_type": "code",
   "execution_count": null,
   "metadata": {},
   "outputs": [],
   "source": [
    "#Carga del archivo\n",
    "file = \"eclipse_jdt.csv\"\n",
    "file = f\"{BASE_DIR}/data/eclipse_jdt.csv\"\n",
    "\n",
    "#Crear un Data Frame de pandas con este documento\n",
    "df = pd.read_csv(file)\n",
    "\n",
    "#Comprobación de que se ha procedido correctamente\n",
    "print(df.columns)\n",
    "df[['Issue_id','Priority','Component','Title','Description']].sample(2, random_state=42)"
   ]
  },
  {
   "cell_type": "markdown",
   "metadata": {},
   "source": [
    "Se observa que el Data Frame cuenta con varias columnas correspondientes a distintos elementos o características que se deben indicar a la hora de reportar un bug para que sea más fácil para el desarrollador reproducir el error y así poder solucionarlo.\n",
    "\n",
    "En este caso, únicamente se necesitarán las columnas *Priority*, *Component* y *Description*, pues lo que se va a tratar de hacer es clasificar, y en adelante predecir, los reportes en base a la prioridad."
   ]
  },
  {
   "cell_type": "markdown",
   "metadata": {},
   "source": [
    "## Entendiendo el Dataset\n",
    "Antes de comenzar con el objeto del apartado, vamos a tratar de entender el Dataset y qué es lo que se desea con él. "
   ]
  },
  {
   "cell_type": "code",
   "execution_count": 7,
   "metadata": {},
   "outputs": [
    {
     "data": {
      "text/html": [
       "<div>\n",
       "<style scoped>\n",
       "    .dataframe tbody tr th:only-of-type {\n",
       "        vertical-align: middle;\n",
       "    }\n",
       "\n",
       "    .dataframe tbody tr th {\n",
       "        vertical-align: top;\n",
       "    }\n",
       "\n",
       "    .dataframe thead th {\n",
       "        text-align: right;\n",
       "    }\n",
       "</style>\n",
       "<table border=\"1\" class=\"dataframe tex2jax_ignore\">\n",
       "  <thead>\n",
       "    <tr style=\"text-align: right;\">\n",
       "      <th></th>\n",
       "      <th>39288</th>\n",
       "    </tr>\n",
       "  </thead>\n",
       "  <tbody>\n",
       "    <tr>\n",
       "      <th>Issue_id</th>\n",
       "      <td>261494</td>\n",
       "    </tr>\n",
       "    <tr>\n",
       "      <th>Priority</th>\n",
       "      <td>P3</td>\n",
       "    </tr>\n",
       "    <tr>\n",
       "      <th>Component</th>\n",
       "      <td>Text</td>\n",
       "    </tr>\n",
       "    <tr>\n",
       "      <th>Duplicated_issue</th>\n",
       "      <td>NaN</td>\n",
       "    </tr>\n",
       "    <tr>\n",
       "      <th>Title</th>\n",
       "      <td>[spell checking] Extra dictionaries dont appear in the UI.</td>\n",
       "    </tr>\n",
       "    <tr>\n",
       "      <th>Description</th>\n",
       "      <td>Created attachment 122930; This plugin adds some extra dictionaries but they dont appear in the UI.; ; Build ID: M20080911-1700; ; Steps To Reproduce:; 1. Run eclipse IDE with attached project whi...</td>\n",
       "    </tr>\n",
       "    <tr>\n",
       "      <th>Status</th>\n",
       "      <td>RESOLVED</td>\n",
       "    </tr>\n",
       "    <tr>\n",
       "      <th>Resolution</th>\n",
       "      <td>INVALID</td>\n",
       "    </tr>\n",
       "    <tr>\n",
       "      <th>Version</th>\n",
       "      <td>3.4.1</td>\n",
       "    </tr>\n",
       "    <tr>\n",
       "      <th>Created_time</th>\n",
       "      <td>2009-01-19 08:07:00 -0500</td>\n",
       "    </tr>\n",
       "    <tr>\n",
       "      <th>Resolved_time</th>\n",
       "      <td>2009-01-19 10:45:50 -0500</td>\n",
       "    </tr>\n",
       "  </tbody>\n",
       "</table>\n",
       "</div>"
      ],
      "text/plain": [
       "                                                                                                                                                                                                                    39288\n",
       "Issue_id                                                                                                                                                                                                           261494\n",
       "Priority                                                                                                                                                                                                               P3\n",
       "Component                                                                                                                                                                                                            Text\n",
       "Duplicated_issue                                                                                                                                                                                                      NaN\n",
       "Title                                                                                                                                                          [spell checking] Extra dictionaries dont appear in the UI.\n",
       "Description       Created attachment 122930; This plugin adds some extra dictionaries but they dont appear in the UI.; ; Build ID: M20080911-1700; ; Steps To Reproduce:; 1. Run eclipse IDE with attached project whi...\n",
       "Status                                                                                                                                                                                                           RESOLVED\n",
       "Resolution                                                                                                                                                                                                        INVALID\n",
       "Version                                                                                                                                                                                                             3.4.1\n",
       "Created_time                                                                                                                                                                                    2009-01-19 08:07:00 -0500\n",
       "Resolved_time                                                                                                                                                                                   2009-01-19 10:45:50 -0500"
      ]
     },
     "execution_count": 7,
     "metadata": {},
     "output_type": "execute_result"
    }
   ],
   "source": [
    "df.sample(1, random_state=325).T"
   ]
  },
  {
   "cell_type": "markdown",
   "metadata": {},
   "source": [
    "Como se indicó antes, nos vamos a centrar en las columnas Component, Priority y Description pues son las que realmente aportan información y datos necesarios para el entrenamiendo de un modelo de aprendizaje supervisado.\n",
    "\n",
    "En la columna *Priority* se indica la prioridad que se le debería de dar al bug reportado. Esta va en una escala de P1 a P5, siendo P5 la máxima prioridad.\n",
    "\n",
    "En *Component* se indica cuál es el componente de JVT en el cuál se ha originado el bug, en el caso anterior mostrado, se ha originado en *Text*.\n",
    "\n",
    "En *Description* el usuario describe el bug de la forma más precisa posible."
   ]
  },
  {
   "cell_type": "markdown",
   "metadata": {},
   "source": [
    "Una vez explicado esto, si se muestra una gráfica con la distribución de prioridades que se le dan a los reportes del Dataset, se observa que la gran mayoría reciben un nivel de prioridad *P3*, eso porque es el nivel que se le asigna de forma predeterminada o porque en general los usuarios suelen dar un nivel medio la gran parte de las veces."
   ]
  },
  {
   "cell_type": "code",
   "execution_count": 9,
   "metadata": {},
   "outputs": [
    {
     "data": {
      "text/plain": [
       "<Axes: xlabel='Priority'>"
      ]
     },
     "execution_count": 9,
     "metadata": {},
     "output_type": "execute_result"
    },
    {
     "data": {
      "image/png": "[encoded data removed]",
      "text/plain": [
       "<Figure size 800x400 with 1 Axes>"
      ]
     },
     "metadata": {},
     "output_type": "display_data"
    }
   ],
   "source": [
    "df['Priority'].value_counts().sort_index().plot(kind='bar')"
   ]
  },
  {
   "cell_type": "markdown",
   "metadata": {},
   "source": [
    "Dle mismo modo, se puede mostrar el número de reportes asociados a cada tipo de componente."
   ]
  },
  {
   "cell_type": "code",
   "execution_count": 10,
   "metadata": {},
   "outputs": [
    {
     "data": {
      "text/plain": [
       "Component\n",
       "UI       17479\n",
       "Core     13669\n",
       "Debug     7542\n",
       "Text      5901\n",
       "APT        406\n",
       "Doc        299\n",
       "Name: count, dtype: int64"
      ]
     },
     "execution_count": 10,
     "metadata": {},
     "output_type": "execute_result"
    }
   ],
   "source": [
    "df['Component'].value_counts()"
   ]
  },
  {
   "cell_type": "markdown",
   "metadata": {},
   "source": [
    "Una vez comprendida la estructura del Dataset, se procederá a crear el sistema de clasificación de texto."
   ]
  },
  {
   "cell_type": "markdown",
   "metadata": {},
   "source": [
    "## Construcción de un Clasificador de Texto\n",
    "Un clasificador de texto se encuentra en la categoría de modelos de aprendizaje *supervisado*. Este tipo de algoritmos basan su funcionamiento en aprender las relaciones entre variables independientes y variables objetivo a través de datos etiquetados proporcionados.\n",
    "\n",
    "En este caso, se ha escogido el método de clasificación para entrenar el modelo, que usará variables independientes como la descripción del bug para así predecir la prioridad o el componente que se le debe dar a un reporte."
   ]
  },
  {
   "cell_type": "markdown",
   "metadata": {},
   "source": [
    "### Proceso de trabajo de un modelo de aprendizaje supervisado\n",
    "Se divide en dos fases: entrenamiento y predicción.\n",
    "\n",
    "La fase de entrenamiento comienza con los datos de entrenamiento, que incluyen las observaciones que se aportan, en este caso las descripciones de los reportes de bugs, y las etiquetas asociadas, que sería lo que se desea predecir, la prioridad o componente en este caso.\n",
    "\n",
    "En la fase de predicción, el modelo recibe un nuevo reporte en este caso, lo transforma al formato de documento que se ha utilizado durante la fase de entrenamiento y a partir de este, el modelo genera la predicción."
   ]
  },
  {
   "cell_type": "markdown",
   "metadata": {},
   "source": [
    "### Preparación de los datos\n",
    "A partir de este momento, comenzará el proceso de creación de modelo y se irá documentando todo el proceso.\n",
    "\n",
    "Como se ha visto en capitulos anteriores, es muy importante la limpieza, normalización y transformación de los datos para que estén dispuestos de forma adecuada para el análisis de estos por parte del modelo.\n",
    "\n",
    "Como se va a usar un nuevo Dataset en el que las columnas que realmente necesitaremos serán *Priority*, *Title* y *Description* (se va a predecir la prioridad en este caso, no el componente que origina el bug), se comenzará eliminado las columnas innecesarias del datafrane y aquellas filas que contengan valores vaciós o nulos."
   ]
  },
  {
   "cell_type": "code",
   "execution_count": null,
   "metadata": {},
   "outputs": [
    {
     "data": {
      "text/plain": [
       "Index(['Priority', 'text'], dtype='object')"
      ]
     },
     "execution_count": 11,
     "metadata": {},
     "output_type": "execute_result"
    }
   ],
   "source": [
    "#Selección de las columnas deseadas\n",
    "df = df[['Title','Description','Priority']]\n",
    "#Elimina filas sin valores\n",
    "df = df.dropna()\n",
    "#Une en la columna text las columnas Title y Description\n",
    "df['text'] = df['Title'] + ' ' + df['Description']\n",
    "#Elimina las columnas title y description\n",
    "df = df.drop(columns=['Title','Description'])\n",
    "df.columns"
   ]
  },
  {
   "cell_type": "markdown",
   "metadata": {},
   "source": [
    "Ahora se va a usar una función *clean* que eliminará los caracteres especiales del texto."
   ]
  },
  {
   "cell_type": "code",
   "execution_count": 12,
   "metadata": {},
   "outputs": [],
   "source": [
    "def clean(text):\n",
    "    # convert html escapes like &amp; to characters.\n",
    "    text = html.unescape(text) \n",
    "    # tags like <tab>\n",
    "    text = re.sub(r'<[^<>]*>', ' ', text)\n",
    "    # markdown URLs like [Some text](https://....)\n",
    "    text = re.sub(r'\\[([^\\[\\]]*)\\]\\([^\\(\\)]*\\)', r'\\1', text)\n",
    "    # text or code in brackets like [0]\n",
    "    text = re.sub(r'\\[[^\\[\\]]*\\]', ' ', text)\n",
    "    # standalone sequences of specials, matches &# but not #cool\n",
    "    text = re.sub(r'(?:^|\\s)[&#<>{}\\[\\]+|\\\\:-]{1,}(?:\\s|$)', ' ', text)\n",
    "    # standalone sequences of hyphens like --- or ==\n",
    "    text = re.sub(r'(?:^|\\s)[\\-=\\+]{2,}(?:\\s|$)', ' ', text)\n",
    "    # sequences of white spaces\n",
    "    text = re.sub(r'\\s+', ' ', text)\n",
    "    return text.strip()"
   ]
  },
  {
   "cell_type": "code",
   "execution_count": 14,
   "metadata": {},
   "outputs": [],
   "source": [
    "df['text'] = df['text'].apply(clean)"
   ]
  },
  {
   "cell_type": "code",
   "execution_count": null,
   "metadata": {},
   "outputs": [],
   "source": [
    "df = df[df['text'].str.len() > 50]\n",
    "df.sample(2)"
   ]
  }
 ],
 "metadata": {
  "kernelspec": {
   "display_name": "gvtiaenv",
   "language": "python",
   "name": "python3"
  },
  "language_info": {
   "codemirror_mode": {
    "name": "ipython",
    "version": 3
   },
   "file_extension": ".py",
   "mimetype": "text/x-python",
   "name": "python",
   "nbconvert_exporter": "python",
   "pygments_lexer": "ipython3",
   "version": "3.10.9"
  }
 },
 "nbformat": 4,
 "nbformat_minor": 2
}
