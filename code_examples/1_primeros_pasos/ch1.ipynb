{
 "cells": [
  {
   "cell_type": "markdown",
   "metadata": {},
   "source": [
    "Comienzo con la importación de pandas y leer el dataset y mostrar dos entradas de este por pantalla"
   ]
  },
  {
   "cell_type": "code",
   "execution_count": 4,
   "metadata": {},
   "outputs": [
    {
     "name": "stdout",
     "output_type": "stream",
     "text": [
      "<class 'pandas.core.frame.DataFrame'>\n",
      "RangeIndex: 7507 entries, 0 to 7506\n",
      "Data columns (total 7 columns):\n",
      " #   Column        Non-Null Count  Dtype \n",
      "---  ------        --------------  ----- \n",
      " 0   session       7507 non-null   int64 \n",
      " 1   year          7507 non-null   int64 \n",
      " 2   country       7507 non-null   object\n",
      " 3   country_name  7507 non-null   object\n",
      " 4   speaker       7480 non-null   object\n",
      " 5   position      4502 non-null   object\n",
      " 6   text          7507 non-null   object\n",
      "dtypes: int64(2), object(5)\n",
      "memory usage: 410.7+ KB\n"
     ]
    },
    {
     "data": {
      "text/html": [
       "<div>\n",
       "<style scoped>\n",
       "    .dataframe tbody tr th:only-of-type {\n",
       "        vertical-align: middle;\n",
       "    }\n",
       "\n",
       "    .dataframe tbody tr th {\n",
       "        vertical-align: top;\n",
       "    }\n",
       "\n",
       "    .dataframe thead th {\n",
       "        text-align: right;\n",
       "    }\n",
       "</style>\n",
       "<table border=\"1\" class=\"dataframe\">\n",
       "  <thead>\n",
       "    <tr style=\"text-align: right;\">\n",
       "      <th></th>\n",
       "      <th>session</th>\n",
       "      <th>year</th>\n",
       "      <th>country</th>\n",
       "      <th>country_name</th>\n",
       "      <th>speaker</th>\n",
       "      <th>position</th>\n",
       "      <th>text</th>\n",
       "    </tr>\n",
       "  </thead>\n",
       "  <tbody>\n",
       "    <tr>\n",
       "      <th>3871</th>\n",
       "      <td>51</td>\n",
       "      <td>1996</td>\n",
       "      <td>PER</td>\n",
       "      <td>Peru</td>\n",
       "      <td>Francisco Tudela Van Breughel Douglas</td>\n",
       "      <td>Minister for Foreign Affairs</td>\n",
       "      <td>﻿At the outset, allow me,\\nSir, to convey to you and to this Assembly the greetings\\nand congratulations of the Peruvian people, as well as\\ntheir...</td>\n",
       "    </tr>\n",
       "    <tr>\n",
       "      <th>4697</th>\n",
       "      <td>56</td>\n",
       "      <td>2001</td>\n",
       "      <td>GBR</td>\n",
       "      <td>United Kingdom</td>\n",
       "      <td>Jack Straw</td>\n",
       "      <td>Minister for Foreign Affairs</td>\n",
       "      <td>﻿Please allow me\\nwarmly to congratulate you, Sir, on your assumption of\\nthe presidency of the fifty-sixth session of the General\\nAssembly.\\nThi...</td>\n",
       "    </tr>\n",
       "  </tbody>\n",
       "</table>\n",
       "</div>"
      ],
      "text/plain": [
       "      session  year country    country_name  \\\n",
       "3871       51  1996     PER            Peru   \n",
       "4697       56  2001     GBR  United Kingdom   \n",
       "\n",
       "                                    speaker                      position  \\\n",
       "3871  Francisco Tudela Van Breughel Douglas  Minister for Foreign Affairs   \n",
       "4697                             Jack Straw  Minister for Foreign Affairs   \n",
       "\n",
       "                                                                                                                                                       text  \n",
       "3871  ﻿At the outset, allow me,\\nSir, to convey to you and to this Assembly the greetings\\nand congratulations of the Peruvian people, as well as\\ntheir...  \n",
       "4697  ﻿Please allow me\\nwarmly to congratulate you, Sir, on your assumption of\\nthe presidency of the fifty-sixth session of the General\\nAssembly.\\nThi...  "
      ]
     },
     "execution_count": 4,
     "metadata": {},
     "output_type": "execute_result"
    }
   ],
   "source": [
    "import pandas as pd\n",
    "\n",
    "# lee el dataset y lo asigna a la variable df\n",
    "file = \"un-general-debates-blueprint.csv\"\n",
    "df = pd.read_csv(file)\n",
    "\n",
    "# Comandos de pandas para obtener info sobre los dataframes\n",
    "df. columns\n",
    "df.dtypes\n",
    "df.info()\n",
    "df.describe()\n",
    "\n",
    "# imprime 2 muestras del dataset\n",
    "df.sample(2, random_state=53)"
   ]
  },
  {
   "cell_type": "markdown",
   "metadata": {},
   "source": []
  }
 ],
 "metadata": {
  "kernelspec": {
   "display_name": "Python 3",
   "language": "python",
   "name": "python3"
  },
  "language_info": {
   "codemirror_mode": {
    "name": "ipython",
    "version": 3
   },
   "file_extension": ".py",
   "mimetype": "text/x-python",
   "name": "python",
   "nbconvert_exporter": "python",
   "pygments_lexer": "ipython3",
   "version": "3.12.6"
  }
 },
 "nbformat": 4,
 "nbformat_minor": 2
}
