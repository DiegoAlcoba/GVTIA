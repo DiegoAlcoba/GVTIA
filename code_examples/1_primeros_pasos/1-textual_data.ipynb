{
 "cells": [
  {
   "cell_type": "markdown",
   "metadata": {},
   "source": [
    "# Primeros pasos con python y Jupyter Notebook"
   ]
  },
  {
   "cell_type": "markdown",
   "metadata": {},
   "source": [
    "Como introducción a python y Jupyter, tomaremos ejemplos del libro \"blueprints for Text Analysis using Python\" que nos presentará en su inicio la base para el procesamiento de lenguaje natural, junto con las librerías y herramientas más elementales y una fácil comprensión de la información mostrando por pantalla distintas gráficas y tablas con la información deseada. \n",
    "\n",
    "Como primer paso, crearemos en el directorio en el que se encuentra nuestro notebook un archivo setup.py. Este archivo define e importa las librerías básicas que serán necesarias para el desarrollo del notebook, además de las rutas a directorios o archivos que vayamos a utilizar.\n",
    "\n",
    "También cargaremos el archivo \"settings.py\" tomado directamente del repositorio proporcionado por los autores del libro. Este archivo proporciona características útiles para las herramientas que se van a utilizar. La ubicación de este archivo se encontrará en el directorio principal del proyecto, pues es común para todas las herramientas que se van a utilizar."
   ]
  },
  {
   "cell_type": "code",
   "execution_count": 1,
   "metadata": {},
   "outputs": [
    {
     "name": "stdout",
     "output_type": "stream",
     "text": [
      "You are working on a local system.\n",
      "Files will be searched relative to \"..\".\n"
     ]
    }
   ],
   "source": [
    "import sys, os\n",
    "\n",
    "#Carga del archivo setup.py\n",
    "%run -i setup.py\n",
    "\n",
    "#Carga del archivo settings.py\n",
    "#%run \"$BASE_DIR/settings.py\"\n",
    "%reload_ext autoreload\n",
    "%autoreload 2\n",
    "%config InlineBackend.figure_format = 'png'"
   ]
  },
  {
   "cell_type": "markdown",
   "metadata": {},
   "source": [
    "## Conflictos entre gestores de paquetes y librerías\n",
    "Se han presentado diversos problemas a la hora de instalar librerías de Python necesarias para el desarrollo del proyecto produciendo conflictos de dependencias con el gestor de paquetes de Linux.\n",
    "\n",
    "Esto ocurría porque las librerías que se desean instalar se hacían directamente sobre el sistema (el python instalado el sistema para ejecutar aquellos paquetes que lo requieran), es decir, se estaba tratando de instalar las librerías en la base del sistema y no únicamente para el desarrollo de este proyecto.\n",
    "\n",
    "¿La solución a este problema? Crear un entorno virtual de python sobre el directorio del proyecto, de este modo tu sistema quedará protegido de conflictos entre distintos paquetes y las librerías necesarias únicamente serán instaladas y ejecutables por este entorno, el cuál se almacenará en la carpera .venv que se creará en la raíz del proyecto, que de momento no subiré al repositorio, pues no sé si un entorno virtual creando en un sistema se puede utilizar en otro sistema con el mismo archivo.\n",
    "\n",
    "Es un método muy útil y seguro, de este modo para cada proyecto se tienen instaladas las librerías que realmente son necesarias, y no en la base del sistema.\n",
    "\n",
    "Ahora solo quedaría isntalar las librerías que se vayan necesitando en el entorno virtual y eliminar los paquetes/librerías que se hubiesen instalado anteriormente en el sistema."
   ]
  },
  {
   "cell_type": "markdown",
   "metadata": {},
   "source": [
    "# Introducción a Pandas\n",
    "Para el análisis de lenguaje natural, y siguiendo los pasos recomendados por el libro que se está utilizando como referencia para el desarrollo del proyecto, el primer paso que se deberá llevar a cabo será el de comprender el uso y funcionalidades de la librería \"pandas\" y como tratar con los datos de los que se dispone para obtener un mejor conocimiento sobre estos.\n",
    "\n",
    "Comenzaremos por importar a nuestro programa la librería pandas para poder leer el dataset proporcionado por los autores del libro y a continuación se mostrará por pantalla información sobre los dataframes y un par de muestras (filas) del dataset."
   ]
  },
  {
   "cell_type": "code",
   "execution_count": 2,
   "metadata": {},
   "outputs": [
    {
     "data": {
      "text/html": [
       "<div>\n",
       "<style scoped>\n",
       "    .dataframe tbody tr th:only-of-type {\n",
       "        vertical-align: middle;\n",
       "    }\n",
       "\n",
       "    .dataframe tbody tr th {\n",
       "        vertical-align: top;\n",
       "    }\n",
       "\n",
       "    .dataframe thead th {\n",
       "        text-align: right;\n",
       "    }\n",
       "</style>\n",
       "<table border=\"1\" class=\"dataframe\">\n",
       "  <thead>\n",
       "    <tr style=\"text-align: right;\">\n",
       "      <th></th>\n",
       "      <th>session</th>\n",
       "      <th>year</th>\n",
       "      <th>country</th>\n",
       "      <th>country_name</th>\n",
       "      <th>speaker</th>\n",
       "      <th>position</th>\n",
       "      <th>text</th>\n",
       "    </tr>\n",
       "  </thead>\n",
       "  <tbody>\n",
       "    <tr>\n",
       "      <th>3871</th>\n",
       "      <td>51</td>\n",
       "      <td>1996</td>\n",
       "      <td>PER</td>\n",
       "      <td>Peru</td>\n",
       "      <td>Francisco Tudela Van Breughel Douglas</td>\n",
       "      <td>Minister for Foreign Affairs</td>\n",
       "      <td>﻿At the outset, allow me,\\nSir, to convey to y...</td>\n",
       "    </tr>\n",
       "    <tr>\n",
       "      <th>4697</th>\n",
       "      <td>56</td>\n",
       "      <td>2001</td>\n",
       "      <td>GBR</td>\n",
       "      <td>United Kingdom</td>\n",
       "      <td>Jack Straw</td>\n",
       "      <td>Minister for Foreign Affairs</td>\n",
       "      <td>﻿Please allow me\\nwarmly to congratulate you, ...</td>\n",
       "    </tr>\n",
       "  </tbody>\n",
       "</table>\n",
       "</div>"
      ],
      "text/plain": [
       "      session  year country    country_name  \\\n",
       "3871       51  1996     PER            Peru   \n",
       "4697       56  2001     GBR  United Kingdom   \n",
       "\n",
       "                                    speaker                      position  \\\n",
       "3871  Francisco Tudela Van Breughel Douglas  Minister for Foreign Affairs   \n",
       "4697                             Jack Straw  Minister for Foreign Affairs   \n",
       "\n",
       "                                                   text  \n",
       "3871  ﻿At the outset, allow me,\\nSir, to convey to y...  \n",
       "4697  ﻿Please allow me\\nwarmly to congratulate you, ...  "
      ]
     },
     "execution_count": 2,
     "metadata": {},
     "output_type": "execute_result"
    }
   ],
   "source": [
    "import pandas as pd\n",
    "\n",
    "# lee el dataset y lo asigna a la variable df\n",
    "file = \"un-general-debates-blueprint.csv\"\n",
    "df = pd.read_csv(file)\n",
    "\n",
    "# Comandos de pandas para obtener info sobre los dataframes\n",
    "# df.columns\n",
    "# df.dtypes\n",
    "# df.info()\n",
    "# df.describe()\n",
    "\n",
    "# imprime 2 muestras del dataset\n",
    "df.sample(2, random_state=53)"
   ]
  },
  {
   "cell_type": "markdown",
   "metadata": {},
   "source": [
    "## Cálculos de estadísticas en columnas \n",
    "Se puede obtener información adicional del dataset utilizando la función \"describe().T\" de pandas, de forma que se nos mostrará un resumen con distintas características del mismo.\n",
    "\n",
    "En este caso, se quiere obtener más información/una vista más global de la longitud del texto"
   ]
  },
  {
   "cell_type": "code",
   "execution_count": 3,
   "metadata": {},
   "outputs": [
    {
     "data": {
      "text/html": [
       "<div>\n",
       "<style scoped>\n",
       "    .dataframe tbody tr th:only-of-type {\n",
       "        vertical-align: middle;\n",
       "    }\n",
       "\n",
       "    .dataframe tbody tr th {\n",
       "        vertical-align: top;\n",
       "    }\n",
       "\n",
       "    .dataframe thead th {\n",
       "        text-align: right;\n",
       "    }\n",
       "</style>\n",
       "<table border=\"1\" class=\"dataframe\">\n",
       "  <thead>\n",
       "    <tr style=\"text-align: right;\">\n",
       "      <th></th>\n",
       "      <th>count</th>\n",
       "      <th>mean</th>\n",
       "      <th>std</th>\n",
       "      <th>min</th>\n",
       "      <th>25%</th>\n",
       "      <th>50%</th>\n",
       "      <th>75%</th>\n",
       "      <th>max</th>\n",
       "    </tr>\n",
       "  </thead>\n",
       "  <tbody>\n",
       "    <tr>\n",
       "      <th>session</th>\n",
       "      <td>7507.0</td>\n",
       "      <td>49.610763</td>\n",
       "      <td>12.892155</td>\n",
       "      <td>25.0</td>\n",
       "      <td>39.0</td>\n",
       "      <td>51.0</td>\n",
       "      <td>61.0</td>\n",
       "      <td>70.0</td>\n",
       "    </tr>\n",
       "    <tr>\n",
       "      <th>year</th>\n",
       "      <td>7507.0</td>\n",
       "      <td>1994.610763</td>\n",
       "      <td>12.892155</td>\n",
       "      <td>1970.0</td>\n",
       "      <td>1984.0</td>\n",
       "      <td>1996.0</td>\n",
       "      <td>2006.0</td>\n",
       "      <td>2015.0</td>\n",
       "    </tr>\n",
       "    <tr>\n",
       "      <th>length</th>\n",
       "      <td>7507.0</td>\n",
       "      <td>17967.281604</td>\n",
       "      <td>7860.038463</td>\n",
       "      <td>2362.0</td>\n",
       "      <td>12077.0</td>\n",
       "      <td>16424.0</td>\n",
       "      <td>22479.5</td>\n",
       "      <td>72041.0</td>\n",
       "    </tr>\n",
       "  </tbody>\n",
       "</table>\n",
       "</div>"
      ],
      "text/plain": [
       "          count          mean          std     min      25%      50%      75%  \\\n",
       "session  7507.0     49.610763    12.892155    25.0     39.0     51.0     61.0   \n",
       "year     7507.0   1994.610763    12.892155  1970.0   1984.0   1996.0   2006.0   \n",
       "length   7507.0  17967.281604  7860.038463  2362.0  12077.0  16424.0  22479.5   \n",
       "\n",
       "             max  \n",
       "session     70.0  \n",
       "year      2015.0  \n",
       "length   72041.0  "
      ]
     },
     "execution_count": 3,
     "metadata": {},
     "output_type": "execute_result"
    }
   ],
   "source": [
    "df['length'] = df['text'].str.len()\n",
    "df.describe().T"
   ]
  },
  {
   "cell_type": "markdown",
   "metadata": {},
   "source": [
    "También se puede utilizar esta función para obtener el número de valores únicos, como puede ser por ejemplo, el nombre y país de la persona que más discursos ha dado, según el dataset con el que contamos. Esto se consigue incluyendo el parámetro \"include='0'\" a las columnas que se desean destacar."
   ]
  },
  {
   "cell_type": "code",
   "execution_count": 4,
   "metadata": {},
   "outputs": [
    {
     "data": {
      "text/html": [
       "<div>\n",
       "<style scoped>\n",
       "    .dataframe tbody tr th:only-of-type {\n",
       "        vertical-align: middle;\n",
       "    }\n",
       "\n",
       "    .dataframe tbody tr th {\n",
       "        vertical-align: top;\n",
       "    }\n",
       "\n",
       "    .dataframe thead th {\n",
       "        text-align: right;\n",
       "    }\n",
       "</style>\n",
       "<table border=\"1\" class=\"dataframe\">\n",
       "  <thead>\n",
       "    <tr style=\"text-align: right;\">\n",
       "      <th></th>\n",
       "      <th>count</th>\n",
       "      <th>unique</th>\n",
       "      <th>top</th>\n",
       "      <th>freq</th>\n",
       "    </tr>\n",
       "  </thead>\n",
       "  <tbody>\n",
       "    <tr>\n",
       "      <th>country</th>\n",
       "      <td>7507</td>\n",
       "      <td>199</td>\n",
       "      <td>ALB</td>\n",
       "      <td>46</td>\n",
       "    </tr>\n",
       "    <tr>\n",
       "      <th>speaker</th>\n",
       "      <td>7480</td>\n",
       "      <td>5428</td>\n",
       "      <td>Seyoum Mesfin</td>\n",
       "      <td>12</td>\n",
       "    </tr>\n",
       "  </tbody>\n",
       "</table>\n",
       "</div>"
      ],
      "text/plain": [
       "        count unique            top freq\n",
       "country  7507    199            ALB   46\n",
       "speaker  7480   5428  Seyoum Mesfin   12"
      ]
     },
     "execution_count": 4,
     "metadata": {},
     "output_type": "execute_result"
    }
   ],
   "source": [
    "df[['country', 'speaker']].describe(include='O').T"
   ]
  },
  {
   "cell_type": "markdown",
   "metadata": {},
   "source": [
    "## Información perdida\n",
    "En el código anterior se observa que hay una menor cantidad de \"speakers\" que de países, entonces se podría decir que hay información que no se ha tenido en cuenta o que se ha perdido.\n",
    "\n",
    "Para comprobarlo, pandas ofrece una función que comprueba si alguna columna contiene valores nulos."
   ]
  },
  {
   "cell_type": "code",
   "execution_count": 5,
   "metadata": {},
   "outputs": [
    {
     "data": {
      "text/plain": [
       "session            0\n",
       "year               0\n",
       "country            0\n",
       "country_name       0\n",
       "speaker           27\n",
       "position        3005\n",
       "text               0\n",
       "length             0\n",
       "dtype: int64"
      ]
     },
     "execution_count": 5,
     "metadata": {},
     "output_type": "execute_result"
    }
   ],
   "source": [
    "df.isna().sum()"
   ]
  },
  {
   "cell_type": "markdown",
   "metadata": {},
   "source": [
    "Aquí se observa que hay 27 columnas \"speaker\" con valor \"null\". Para no llevar a confusiones a la hora de procesar los datos, es recomendable establecer un valor determinado a este tipo de campos."
   ]
  },
  {
   "cell_type": "code",
   "execution_count": 6,
   "metadata": {},
   "outputs": [
    {
     "name": "stderr",
     "output_type": "stream",
     "text": [
      "/tmp/ipykernel_39072/1792866762.py:1: FutureWarning: A value is trying to be set on a copy of a DataFrame or Series through chained assignment using an inplace method.\n",
      "The behavior will change in pandas 3.0. This inplace method will never work because the intermediate object on which we are setting values always behaves as a copy.\n",
      "\n",
      "For example, when doing 'df[col].method(value, inplace=True)', try using 'df.method({col: value}, inplace=True)' or df[col] = df[col].method(value) instead, to perform the operation inplace on the original object.\n",
      "\n",
      "\n",
      "  df['speaker'].fillna('unknown', inplace=True)\n"
     ]
    }
   ],
   "source": [
    "df['speaker'].fillna('unknown', inplace=True)"
   ]
  },
  {
   "cell_type": "markdown",
   "metadata": {},
   "source": [
    "También hay que tener en cuenta que distintos valores pueden pertenecer a un mismo elemento. De forma más sencilla, y tomando como ejemplo, el nombre de una misma persona puede escribirse de distintas formas como se demuestra a continuación."
   ]
  },
  {
   "cell_type": "code",
   "execution_count": 7,
   "metadata": {},
   "outputs": [
    {
     "data": {
      "text/plain": [
       "speaker\n",
       "George W. Bush        4\n",
       "Mr. George W. Bush    2\n",
       "Bush                  1\n",
       "George Bush           1\n",
       "Mr. George W Bush     1\n",
       "Name: count, dtype: int64"
      ]
     },
     "execution_count": 7,
     "metadata": {},
     "output_type": "execute_result"
    }
   ],
   "source": [
    "df[df['speaker'].str.contains('Bush')]['speaker'].value_counts()"
   ]
  },
  {
   "cell_type": "markdown",
   "metadata": {},
   "source": [
    "Estos casos anteriores se deben tener muy en cuenta para intentar obtener una información lo más exacta posible sobre la que trabajar más tarde."
   ]
  },
  {
   "cell_type": "markdown",
   "metadata": {},
   "source": [
    "## Comparando las distribuciones de valores entre categorías\n",
    "Para una mejor comprensión de la distribución de valores podemos utilizar la herramienta \"catplot\" de la librería Seaborn, la cuál ofrece una variedad de gráficas, entre las que se incluye  la de cajas y la de violín, que ofrece una buena visión de lo que se quiere estudiar. "
   ]
  },
  {
   "cell_type": "code",
   "execution_count": 9,
   "metadata": {},
   "outputs": [
    {
     "data": {
      "image/png": "[encoded data removed]",
      "text/plain": [
       "<Figure size 500x500 with 1 Axes>"
      ]
     },
     "metadata": {},
     "output_type": "display_data"
    }
   ],
   "source": [
    "import seaborn as sns\n",
    "#Definimos una gráfica simple para mostrar la longitud de los discursos\n",
    "#plt.figure(figsize=(8, 2))\n",
    "sns.displot(df['length'], bins=30, kde=True);"
   ]
  },
  {
   "cell_type": "code",
   "execution_count": null,
   "metadata": {},
   "outputs": [
    {
     "data": {
      "image/png": "[encoded data removed]",
      "text/plain": [
       "<Figure size 400x300 with 1 Axes>"
      ]
     },
     "metadata": {},
     "output_type": "display_data"
    },
    {
     "data": {
      "image/png": "[encoded data removed]",
      "text/plain": [
       "<Figure size 400x300 with 1 Axes>"
      ]
     },
     "metadata": {},
     "output_type": "display_data"
    }
   ],
   "source": [
    "#Definimos que países del dataset queremos tener en cuenta para las gráficas\n",
    "where = df['country'].isin(['USA', 'FRA', 'GBR', 'CHN', 'RUS'])\n",
    "\n",
    "#Gráfica de caja\n",
    "g = sns.catplot(data=df[where], x=\"country\", y=\"length\", kind='box')\n",
    "g.fig.set_size_inches(4, 3)\n",
    "g.fig.set_dpi(100) \n",
    "\n",
    "#Gráfica violín\n",
    "g = sns.catplot(data=df[where], x=\"country\", y=\"length\", kind='violin')\n",
    "g.fig.set_size_inches(4, 3)\n",
    "g.fig.set_dpi(100) "
   ]
  },
  {
   "cell_type": "markdown",
   "metadata": {},
   "source": [
    "Se pueden usar una gran cantidad de gráficas disponibles a través de las diversas librerías, no me voy a detener a mostrar cada una de ellas, pues cuando sea realmente necesario se decidirá qué gráfica es la que mejor se adapta al resultado que se desea mostrar."
   ]
  },
  {
   "cell_type": "markdown",
   "metadata": {},
   "source": [
    "# Creación de un Pipeline de preprocesamiento de texto"
   ]
  },
  {
   "cell_type": "markdown",
   "metadata": {},
   "source": [
    "## Tokenización con expresiones regulares\n",
    "La tokenización es utilizada para extraer palabras de secuencias de caracteres de cualquier longitud. Para esto se hará uso de expresiones regulares.\n",
    "\n",
    "En este ejemplo se utilizarán expresiones en formato POSIX para extraer expresiones que cuenten con al menos una letra, precedida o seguida de algún carácter alfanumérico."
   ]
  },
  {
   "cell_type": "code",
   "execution_count": null,
   "metadata": {},
   "outputs": [
    {
     "name": "stdout",
     "output_type": "stream",
     "text": [
      "La|tokenización-extracción|de|palabras|de|un|texto|frase|funciona\n"
     ]
    }
   ],
   "source": [
    "import regex as re\n",
    "\n",
    "def tokenize(text):\n",
    "    #\\p{L} -> al menos una letra\n",
    "    #[\\w-]* -> 0 o + caracteres alfanuméricos\n",
    "    return re.findall(r'[\\w-]*\\p{L}[\\w-]*', text)\n",
    "\n",
    "#Ejemplo para comprobar funcionamiento\n",
    "text = \"La tokenización-extracción de palabras de un texto/frase funciona\"\n",
    "tokens = tokenize(text)\n",
    "print(\"|\".join(tokens))"
   ]
  },
  {
   "cell_type": "markdown",
   "metadata": {},
   "source": [
    "## Utilización de Stop Words\n",
    "Las Stop Words son aquellas que tienen una frecuencia demasiado elevada en cualquier tipo de texto, por ejemplo, pronombres, adverbios, artículos, etc.\n",
    "\n",
    "Este tipo de palabras se eliminan antes del análisis de datos pues no aportan ningún tipo de información relevante a la hora de la verdad.\n",
    "\n",
    "Se utilizará la lista de stop words ofrecida por la librería NLTK en este ejemplo, pero hay muchas listas disponibles con una gran variedad de palabras. Además, es posible la edición de estas listas pudiendo añadir o eliminar palabras que el usuario considere necesarias, y si cuenta con el sufiente tiempo y ganas, se puede crear su propia lista uno mismo."
   ]
  },
  {
   "cell_type": "code",
   "execution_count": null,
   "metadata": {},
   "outputs": [
    {
     "name": "stdout",
     "output_type": "stream",
     "text": [
      "{'been', 'and', 'now', 'ma', 'wouldn', 'some', 'only', 'between', 'doing', 'd', 'must', 'so', 'too', 'no', 've', 'for', 'me', 'can', 'herself', 'haven', \"doesn't\", 'to', 'having', 'more', 'weren', 'those', 'off', 'you', 'than', 'dear', 'same', 'before', 'itself', 'he', 'didn', 'when', 'again', \"didn't\", \"haven't\", \"hasn't\", 'being', 'both', 'doesn', 'its', 'needn', 'ours', 'with', 'would', 'your', 'yours', 'shan', 'below', 'while', 'am', 'through', 'up', 'hers', 'won', 'my', 'y', 'is', 'll', 'ain', 'they', 'isn', 'few', 'regards', 'himself', 't', 'what', \"aren't\", 'ourselves', 'until', 'yourselves', 'not', 'just', 'whom', \"weren't\", 'should', 'o', 's', 'i', 'have', 'yourself', \"she's\", 'about', 'couldn', 'hadn', \"mightn't\", 'other', 'at', \"it's\", 'each', \"wouldn't\", 'she', 'shouldn', 'it', 'because', 'in', 'over', 're', 'did', 'this', 'or', 'an', 'myself', 'are', \"should've\", \"shouldn't\", 'down', \"that'll\", \"couldn't\", 'hasn', 'how', 'mustn', 'do', 'we', 'above', 'if', 'aren', 'him', 'nor', 'm', 'were', 'mightn', 'her', 'theirs', 'very', \"you've\", 'by', 'out', 'under', 'has', 'from', \"don't\", \"won't\", 'here', 'themselves', 'as', 'there', 'of', 'a', 'into', 'had', \"hadn't\", 'the', \"you're\", 'such', 'further', \"needn't\", 'their', 'who', \"shan't\", 'where', 'wasn', 'our', 'does', 'but', \"isn't\", 'after', 'own', 'then', 'these', 'don', 'also', 'which', 'why', 'his', \"you'll\", 'most', 'will', 'was', 'that', 'on', 'any', \"wasn't\", 'once', \"mustn't\", 'them', 'all', \"you'd\", 'be', 'during'}\n"
     ]
    },
    {
     "name": "stderr",
     "output_type": "stream",
     "text": [
      "[nltk_data] Downloading package stopwords to /home/diego/nltk_data...\n",
      "[nltk_data]   Package stopwords is already up-to-date!\n"
     ]
    }
   ],
   "source": [
    "import nltk\n",
    "\n",
    "#Descargamos la lista de stop words\n",
    "nltk.download('stopwords')\n",
    "#Establecemos el uso de stop words en inglés\n",
    "stopwords = set(nltk.corpus.stopwords.words('english'))\n",
    "\n",
    "#eliminamos las stop words de la lista de la frase tokenizada\n",
    "def remove_stop(tokens):\n",
    "    return [t for t in tokens if t.lower() not in stopwords]\n",
    "\n",
    "#se pueden incluir/eliminar stop words adicionales no preestablecidos\n",
    "include_stopwords = {'dear', 'regards', 'must', 'would', 'also'}\n",
    "exclude_stopwords = {'against'}\n",
    "\n",
    "stopwords |= include_stopwords\n",
    "stopwords -= exclude_stopwords\n",
    "\n",
    "print(stopwords)"
   ]
  },
  {
   "cell_type": "markdown",
   "metadata": {},
   "source": [
    "## Pipeline simple\n",
    "Se creará una nueva columna en el dataset llamada \"tokens\" que contendrá el texto tokenizado, en minúsculas y sin stop words.\n",
    "\n",
    "Un pipeline es utilizado para básicamente unir las funciones explicadas en los ejemplos anteriores y realizar todo el proceso en unas pocas líneas de código, y si se desea realizar más acciones sobre los datos, simplemente vale con extender el pipeline con más funcionalidades."
   ]
  },
  {
   "cell_type": "code",
   "execution_count": null,
   "metadata": {},
   "outputs": [],
   "source": [
    "#Declaramos el pipeline\n",
    "pipeline = [str.lower, tokenize, remove_stop]\n",
    "\n",
    "def prepare(text, pipeline):\n",
    "    tokens = text\n",
    "    \n",
    "    for transform in pipeline:\n",
    "        tokens = transform(tokens)\n",
    "    \n",
    "    return tokens"
   ]
  },
  {
   "cell_type": "code",
   "execution_count": null,
   "metadata": {},
   "outputs": [
    {
     "name": "stderr",
     "output_type": "stream",
     "text": [
      "100%|██████████| 7507/7507 [00:26<00:00, 282.65it/s]\n"
     ]
    }
   ],
   "source": [
    "#Ejecutamos el pipeline sobre los datos del archivo del principio\n",
    "df['tokens'] = df['text'].progress_apply(prepare, pipeline=pipeline)"
   ]
  },
  {
   "cell_type": "code",
   "execution_count": null,
   "metadata": {},
   "outputs": [
    {
     "name": "stderr",
     "output_type": "stream",
     "text": [
      "100%|██████████| 7507/7507 [00:00<00:00, 528574.26it/s]\n"
     ]
    }
   ],
   "source": [
    "df['num_tokens'] = df['tokens'].progress_map(len)"
   ]
  },
  {
   "cell_type": "markdown",
   "metadata": {},
   "source": [
    "\n",
    "# Contando palabras\n",
    "Podemos contar el número de veces que aparece una palabra/token a través de la clase Counter de python, mostrando como resultado la palabra como clave y la frecuencia de aparición como valores."
   ]
  },
  {
   "cell_type": "code",
   "execution_count": null,
   "metadata": {},
   "outputs": [
    {
     "name": "stdout",
     "output_type": "stream",
     "text": [
      "Counter({'ciberseguridad': 2, 'es': 2, 'importante': 2, 'la': 2, 'La': 1, 'pero': 1, 'más': 1, 'que': 1, 'salud': 1})\n"
     ]
    }
   ],
   "source": [
    "from collections import Counter\n",
    "\n",
    "#Ejemplo de conteo de palabras con frase simple\n",
    "tokens = tokenize(\"La ciberseguridad es importante, pero más importante que la ciberseguridad es la salud.\")\n",
    "\n",
    "counter = Counter(tokens)\n",
    "print(counter)"
   ]
  },
  {
   "cell_type": "markdown",
   "metadata": {},
   "source": [
    "Esta lista de contadores puede ser actualizada en cualquier momento con nuevas entradas de texto"
   ]
  },
  {
   "cell_type": "code",
   "execution_count": null,
   "metadata": {},
   "outputs": [
    {
     "name": "stdout",
     "output_type": "stream",
     "text": [
      "Counter({'la': 4, 'ciberseguridad': 3, 'es': 2, 'importante': 2, 'salud': 2, 'La': 1, 'pero': 1, 'más': 1, 'que': 1, 'Manuel': 1, 'prefiere': 1, 'a': 1})\n"
     ]
    }
   ],
   "source": [
    "more = tokenize(\"Manuel prefiere la ciberseguridad a la salud.\")\n",
    "counter.update(more)\n",
    "print(counter)"
   ]
  },
  {
   "cell_type": "markdown",
   "metadata": {},
   "source": [
    "Se pueden también encontrar las palabras con más frecuencia de aparición en un corpus y mostrarlas por pantalla o trabajar con ellas."
   ]
  },
  {
   "cell_type": "code",
   "execution_count": null,
   "metadata": {},
   "outputs": [
    {
     "name": "stdout",
     "output_type": "stream",
     "text": [
      "[('nations', 124508),\n",
      " ('united', 120763),\n",
      " ('international', 117223),\n",
      " ('world', 89421),\n",
      " ('countries', 85734)]\n"
     ]
    }
   ],
   "source": [
    "counter = Counter()\n",
    "mst_comm = df['tokens'].map(counter.update)\n",
    "\n",
    "#se muestran las 5 palabras con frecuencia más alta del corpus\n",
    "pp.pprint(counter.most_common(5))"
   ]
  },
  {
   "cell_type": "markdown",
   "metadata": {},
   "source": [
    "Ahora, se verá como convertir el contador a un DataFrame de Pandas, que es un mejor formato para trabajar y estudiar los datos extraídos.\n",
    "\n",
    "En este caso, los tokens conformarán el índice del DataFrame y la frecuencia de aparición de cada uno se almacenará en la columna \"freq\", la cuál se ordenará en orden de mayor frecuencia a menor."
   ]
  },
  {
   "cell_type": "code",
   "execution_count": null,
   "metadata": {},
   "outputs": [
    {
     "name": "stderr",
     "output_type": "stream",
     "text": [
      "100%|██████████| 7507/7507 [00:02<00:00, 2836.06it/s]\n"
     ]
    },
    {
     "data": {
      "text/html": [
       "<div>\n",
       "<style scoped>\n",
       "    .dataframe tbody tr th:only-of-type {\n",
       "        vertical-align: middle;\n",
       "    }\n",
       "\n",
       "    .dataframe tbody tr th {\n",
       "        vertical-align: top;\n",
       "    }\n",
       "\n",
       "    .dataframe thead th {\n",
       "        text-align: right;\n",
       "    }\n",
       "</style>\n",
       "<table border=\"1\" class=\"dataframe tex2jax_ignore\">\n",
       "  <thead>\n",
       "    <tr style=\"text-align: right;\">\n",
       "      <th></th>\n",
       "      <th>freq</th>\n",
       "    </tr>\n",
       "    <tr>\n",
       "      <th>token</th>\n",
       "      <th></th>\n",
       "    </tr>\n",
       "  </thead>\n",
       "  <tbody>\n",
       "    <tr>\n",
       "      <th>nations</th>\n",
       "      <td>124508</td>\n",
       "    </tr>\n",
       "    <tr>\n",
       "      <th>united</th>\n",
       "      <td>120763</td>\n",
       "    </tr>\n",
       "    <tr>\n",
       "      <th>international</th>\n",
       "      <td>117223</td>\n",
       "    </tr>\n",
       "    <tr>\n",
       "      <th>world</th>\n",
       "      <td>89421</td>\n",
       "    </tr>\n",
       "    <tr>\n",
       "      <th>countries</th>\n",
       "      <td>85734</td>\n",
       "    </tr>\n",
       "  </tbody>\n",
       "</table>\n",
       "</div>"
      ],
      "text/plain": [
       "                 freq\n",
       "token                \n",
       "nations        124508\n",
       "united         120763\n",
       "international  117223\n",
       "world           89421\n",
       "countries       85734"
      ]
     },
     "execution_count": 18,
     "metadata": {},
     "output_type": "execute_result"
    }
   ],
   "source": [
    "def count_words(df, column='tokens', preprocess=None, min_freq=2):\n",
    "\n",
    "    #procesa los tokens y actualiza el contador\n",
    "    def update(doc):\n",
    "        tokens = doc if preprocess is None else preprocess(doc)\n",
    "        counter.update(tokens)\n",
    "\n",
    "    #crea el contador y recorre todos los datos\n",
    "    counter = Counter()\n",
    "    df[column].progress_map(update)\n",
    "\n",
    "    #transforma el contador a dataframe\n",
    "    freq_df = pd.DataFrame.from_dict(counter, orient='index', columns=['freq'])\n",
    "    freq_df = freq_df.query('freq >= @min_freq')\n",
    "    freq_df.index.name = 'token'\n",
    "    \n",
    "    return freq_df.sort_values('freq', ascending=False)\n",
    "\n",
    "#ejecución de la func. count_words y muestra por pantalla de las 5 primeras\n",
    "freq_df = count_words(df)\n",
    "freq_df.head(5)"
   ]
  },
  {
   "cell_type": "markdown",
   "metadata": {},
   "source": [
    "# Frecuencia Inversa del Documento\n",
    "La frecuencia inversa del documento, IDF (siglas en inglés) es una forma de mostrar la inusualidad de algunos términos del corpus.\n",
    "\n",
    "Esto es útil para el análisis de los datos pues se reduce la influencia de términos que aparecen con cierta frecuencia y se resaltan aquellas que pueden pasar más desapercibidas, pero que pueden tener un mayor peso en el contexto del estudio.\n",
    "\n",
    "Este método es similar al conteo de palabras, pero en este caso cada token se tiene en cuenta una vez por documento para luego computar los valores IDF."
   ]
  },
  {
   "cell_type": "code",
   "execution_count": null,
   "metadata": {},
   "outputs": [
    {
     "ename": "ModuleNotFoundError",
     "evalue": "No module named 'wordcloud'",
     "output_type": "error",
     "traceback": [
      "\u001b[0;31m---------------------------------------------------------------------------\u001b[0m",
      "\u001b[0;31mModuleNotFoundError\u001b[0m                       Traceback (most recent call last)",
      "Cell \u001b[0;32mIn[23], line 8\u001b[0m\n\u001b[1;32m      1\u001b[0m \u001b[38;5;66;03m##No he conseguido instalar wordcloud en mi pc por problemas con el gestor\u001b[39;00m\n\u001b[1;32m      2\u001b[0m \u001b[38;5;66;03m#de paquetes yay que se usa en los sistemas basados en Arch Linux\u001b[39;00m\n\u001b[1;32m      3\u001b[0m \n\u001b[1;32m      4\u001b[0m \u001b[38;5;66;03m##Por ahora, el código es prácticamente idéntico al ejemplificado en el libro\u001b[39;00m\n\u001b[1;32m      5\u001b[0m \u001b[38;5;66;03m#y en el momento que pueda reparar los problemas con el gestor trataré de ejecutarlo\u001b[39;00m\n\u001b[1;32m      6\u001b[0m \u001b[38;5;66;03m#y ver su funcionamiento correctamente\u001b[39;00m\n\u001b[0;32m----> 8\u001b[0m \u001b[38;5;28;01mfrom\u001b[39;00m \u001b[38;5;21;01mwordcloud\u001b[39;00m \u001b[38;5;28;01mimport\u001b[39;00m WordCloud\n\u001b[1;32m     10\u001b[0m \u001b[38;5;28;01mdef\u001b[39;00m \u001b[38;5;21mcompute_idf\u001b[39m(df, column\u001b[38;5;241m=\u001b[39m\u001b[38;5;124m'\u001b[39m\u001b[38;5;124mtokens\u001b[39m\u001b[38;5;124m'\u001b[39m, preprocess\u001b[38;5;241m=\u001b[39m\u001b[38;5;28;01mNone\u001b[39;00m, min_df\u001b[38;5;241m=\u001b[39m\u001b[38;5;241m2\u001b[39m):\n\u001b[1;32m     11\u001b[0m \n\u001b[1;32m     12\u001b[0m     \u001b[38;5;66;03m#conteo de tokens\u001b[39;00m\n\u001b[1;32m     13\u001b[0m     \u001b[38;5;28;01mdef\u001b[39;00m \u001b[38;5;21mupdate\u001b[39m(doc):\n",
      "\u001b[0;31mModuleNotFoundError\u001b[0m: No module named 'wordcloud'"
     ]
    }
   ],
   "source": [
    "##No he conseguido instalar wordcloud en mi pc por problemas con el gestor\n",
    "#de paquetes yay que se usa en los sistemas basados en Arch Linux\n",
    "\n",
    "##Por ahora, el código es prácticamente idéntico al ejemplificado en el libro\n",
    "#y en el momento que pueda reparar los problemas con el gestor trataré de ejecutarlo\n",
    "#y ver su funcionamiento correctamente\n",
    " \n",
    "from wordcloud import WordCloud\n",
    "\n",
    "def compute_idf(df, column='tokens', preprocess=None, min_df=2):\n",
    "\n",
    "    #conteo de tokens\n",
    "    def update(doc):\n",
    "        tokens = doc if preprocess is None else preprocess(doc)\n",
    "        counter.update(set(tokens))\n",
    "\n",
    "    counter = Counter()\n",
    "    df[column].progress_map(update)\n",
    "\n",
    "    #creación del data frame y cómputo IDF\n",
    "    idf_df = pd.DataFrame.from_dict(counter, orient='index', columns=['df'])\n",
    "    idf_df = idf_df.query('df >= @min_df')\n",
    "    idf_df['idf'] = np.log(len(df)/idf_df['df'])+0.1\n",
    "    idf_df.index.name = 'token'\n",
    "\n",
    "    return idf_df\n",
    "\n",
    "idf_df = compute_idf(df)\n",
    "\n",
    "#Samples de valores IDF\n",
    "#Alto IDF -> término interesante\n",
    "idf_df.sample(5)\n",
    "\n",
    "#Mostrando los valores IDF a través de wordclouds tras añadir nuevas stopwords, \n",
    "#se pueden ver de manera más visible las palabras que se pueden tener en \n",
    "#mayor consideración a la hora del análisis\n",
    "freq_1970 = count_words(df[df['year'] == 1970])\n",
    "freq_2015 = count_words(df[df['year'] == 2015])\n",
    "\n",
    "freq_1970['tfidf'] = freq_1970['freq'] * idf_df['idf']\n",
    "freq_2015['tfidf'] = freq_2015['freq'] * idf_df['idf']\n",
    "\n",
    "plt.figure(figsize=(12,6))\n",
    "# #wordcloud(freq_df['freq'], title='All years', subplot=(1,3,1))\n",
    "plt.subplot(2,2,1)###\n",
    "wordcloud(freq_1970['freq'], title='1970 - TF', \n",
    "          stopwords=['twenty-fifth', 'twenty-five'])\n",
    "plt.subplot(2,2,2)###\n",
    "wordcloud(freq_2015['freq'], title='2015 - TF', \n",
    "          stopwords=['seventieth'])\n",
    "plt.subplot(2,2,3)###\n",
    "wordcloud(freq_1970['tfidf'], title='1970 - TF-IDF', \n",
    "          stopwords=['twenty-fifth', 'twenty-five', 'twenty', 'fifth'])\n",
    "plt.subplot(2,2,4)###\n",
    "wordcloud(freq_2015['tfidf'], title='2015 - TF-IDF', \n",
    "          stopwords=['seventieth'])"
   ]
  },
  {
   "cell_type": "markdown",
   "metadata": {},
   "source": [
    "# Palabras clave según el contexto\n",
    "En los nubes de palabras TF-IDF pueden aparecer términos cuyos significados no conocemos. Para evitar esto, se puede buscar el texto original en el que aparecen esos términos para observar el contexto de la frase y así tener una mejor noción del posible significado.\n",
    "\n",
    "Para esto se hará uso de la función KWIC de la librería textacy por su rapidez gracias a que trabaja sobre texto no tokenizado.\n",
    "\n",
    "Se utilizará una función similar a la siguiente para extender su uso para varios documentos pertenecientes a un mismo DataFrame."
   ]
  },
  {
   "cell_type": "code",
   "execution_count": null,
   "metadata": {},
   "outputs": [
    {
     "ename": "ModuleNotFoundError",
     "evalue": "No module named 'thinc.backends.linalg'",
     "output_type": "error",
     "traceback": [
      "\u001b[0;31m---------------------------------------------------------------------------\u001b[0m",
      "\u001b[0;31mModuleNotFoundError\u001b[0m                       Traceback (most recent call last)",
      "Cell \u001b[0;32mIn[20], line 1\u001b[0m\n\u001b[0;32m----> 1\u001b[0m \u001b[38;5;28;01mimport\u001b[39;00m \u001b[38;5;21;01mtextacy\u001b[39;00m\n\u001b[1;32m      3\u001b[0m \u001b[38;5;28;01mfrom\u001b[39;00m \u001b[38;5;21;01mtextacy\u001b[39;00m\u001b[38;5;21;01m.\u001b[39;00m\u001b[38;5;21;01mtext_utils\u001b[39;00m \u001b[38;5;28;01mimport\u001b[39;00m KWIC\n\u001b[1;32m      5\u001b[0m \u001b[38;5;28;01mdef\u001b[39;00m \u001b[38;5;21mkwic\u001b[39m(doc_series, keyword, window\u001b[38;5;241m=\u001b[39m\u001b[38;5;241m35\u001b[39m, print_samples\u001b[38;5;241m=\u001b[39m\u001b[38;5;241m5\u001b[39m):\n",
      "File \u001b[0;32m/usr/lib/python3.12/site-packages/textacy/__init__.py:5\u001b[0m\n\u001b[1;32m      3\u001b[0m \u001b[38;5;28;01mfrom\u001b[39;00m \u001b[38;5;21;01mtextacy\u001b[39;00m\u001b[38;5;21;01m.\u001b[39;00m\u001b[38;5;21;01m_version\u001b[39;00m \u001b[38;5;28;01mimport\u001b[39;00m __version__\n\u001b[1;32m      4\u001b[0m \u001b[38;5;28;01mfrom\u001b[39;00m \u001b[38;5;21;01mtextacy\u001b[39;00m\u001b[38;5;21;01m.\u001b[39;00m\u001b[38;5;21;01mconstants\u001b[39;00m \u001b[38;5;28;01mimport\u001b[39;00m DEFAULT_DATA_DIR\n\u001b[0;32m----> 5\u001b[0m \u001b[38;5;28;01mfrom\u001b[39;00m \u001b[38;5;21;01mtextacy\u001b[39;00m\u001b[38;5;21;01m.\u001b[39;00m\u001b[38;5;21;01mcorpus\u001b[39;00m \u001b[38;5;28;01mimport\u001b[39;00m Corpus\n\u001b[1;32m      6\u001b[0m \u001b[38;5;28;01mfrom\u001b[39;00m \u001b[38;5;21;01mtextacy\u001b[39;00m\u001b[38;5;21;01m.\u001b[39;00m\u001b[38;5;21;01mlang_id\u001b[39;00m \u001b[38;5;28;01mimport\u001b[39;00m identify_lang\n\u001b[1;32m      7\u001b[0m \u001b[38;5;28;01mfrom\u001b[39;00m \u001b[38;5;21;01mtextacy\u001b[39;00m\u001b[38;5;21;01m.\u001b[39;00m\u001b[38;5;21;01mspacier\u001b[39;00m\u001b[38;5;21;01m.\u001b[39;00m\u001b[38;5;21;01mcore\u001b[39;00m \u001b[38;5;28;01mimport\u001b[39;00m load_spacy_lang, make_spacy_doc\n",
      "File \u001b[0;32m/usr/lib/python3.12/site-packages/textacy/corpus.py:25\u001b[0m\n\u001b[1;32m     12\u001b[0m \u001b[38;5;28;01mfrom\u001b[39;00m \u001b[38;5;21;01mtyping\u001b[39;00m \u001b[38;5;28;01mimport\u001b[39;00m (\n\u001b[1;32m     13\u001b[0m     Any,\n\u001b[1;32m     14\u001b[0m     Callable,\n\u001b[0;32m   (...)\u001b[0m\n\u001b[1;32m     21\u001b[0m     Union,\n\u001b[1;32m     22\u001b[0m )\n\u001b[1;32m     24\u001b[0m \u001b[38;5;28;01mimport\u001b[39;00m \u001b[38;5;21;01mnumpy\u001b[39;00m \u001b[38;5;28;01mas\u001b[39;00m \u001b[38;5;21;01mnp\u001b[39;00m\n\u001b[0;32m---> 25\u001b[0m \u001b[38;5;28;01mimport\u001b[39;00m \u001b[38;5;21;01mspacy\u001b[39;00m\n\u001b[1;32m     26\u001b[0m \u001b[38;5;28;01mfrom\u001b[39;00m \u001b[38;5;21;01mcytoolz\u001b[39;00m \u001b[38;5;28;01mimport\u001b[39;00m itertoolz\n\u001b[1;32m     27\u001b[0m \u001b[38;5;28;01mfrom\u001b[39;00m \u001b[38;5;21;01mspacy\u001b[39;00m\u001b[38;5;21;01m.\u001b[39;00m\u001b[38;5;21;01mlanguage\u001b[39;00m \u001b[38;5;28;01mimport\u001b[39;00m Language\n",
      "File \u001b[0;32m/usr/lib/python3.12/site-packages/spacy/__init__.py:13\u001b[0m\n\u001b[1;32m     10\u001b[0m \u001b[38;5;66;03m# These are imported as part of the API\u001b[39;00m\n\u001b[1;32m     11\u001b[0m \u001b[38;5;28;01mfrom\u001b[39;00m \u001b[38;5;21;01mthinc\u001b[39;00m\u001b[38;5;21;01m.\u001b[39;00m\u001b[38;5;21;01mapi\u001b[39;00m \u001b[38;5;28;01mimport\u001b[39;00m Config, prefer_gpu, require_cpu, require_gpu  \u001b[38;5;66;03m# noqa: F401\u001b[39;00m\n\u001b[0;32m---> 13\u001b[0m \u001b[38;5;28;01mfrom\u001b[39;00m \u001b[38;5;21;01m.\u001b[39;00m \u001b[38;5;28;01mimport\u001b[39;00m pipeline  \u001b[38;5;66;03m# noqa: F401\u001b[39;00m\n\u001b[1;32m     14\u001b[0m \u001b[38;5;28;01mfrom\u001b[39;00m \u001b[38;5;21;01m.\u001b[39;00m \u001b[38;5;28;01mimport\u001b[39;00m util\n\u001b[1;32m     15\u001b[0m \u001b[38;5;28;01mfrom\u001b[39;00m \u001b[38;5;21;01m.\u001b[39;00m\u001b[38;5;21;01mabout\u001b[39;00m \u001b[38;5;28;01mimport\u001b[39;00m __version__  \u001b[38;5;66;03m# noqa: F401\u001b[39;00m\n",
      "File \u001b[0;32m/usr/lib/python3.12/site-packages/spacy/pipeline/__init__.py:2\u001b[0m\n\u001b[1;32m      1\u001b[0m \u001b[38;5;28;01mfrom\u001b[39;00m \u001b[38;5;21;01m.\u001b[39;00m\u001b[38;5;21;01mattributeruler\u001b[39;00m \u001b[38;5;28;01mimport\u001b[39;00m AttributeRuler\n\u001b[0;32m----> 2\u001b[0m \u001b[38;5;28;01mfrom\u001b[39;00m \u001b[38;5;21;01m.\u001b[39;00m\u001b[38;5;21;01mdep_parser\u001b[39;00m \u001b[38;5;28;01mimport\u001b[39;00m DependencyParser\n\u001b[1;32m      3\u001b[0m \u001b[38;5;28;01mfrom\u001b[39;00m \u001b[38;5;21;01m.\u001b[39;00m\u001b[38;5;21;01medit_tree_lemmatizer\u001b[39;00m \u001b[38;5;28;01mimport\u001b[39;00m EditTreeLemmatizer\n\u001b[1;32m      4\u001b[0m \u001b[38;5;28;01mfrom\u001b[39;00m \u001b[38;5;21;01m.\u001b[39;00m\u001b[38;5;21;01mentity_linker\u001b[39;00m \u001b[38;5;28;01mimport\u001b[39;00m EntityLinker\n",
      "File \u001b[0;32m/usr/lib/python3.12/site-packages/spacy/pipeline/dep_parser.pyx:1\u001b[0m, in \u001b[0;36minit spacy.pipeline.dep_parser\u001b[0;34m()\u001b[0m\n",
      "File \u001b[0;32m/usr/lib/python3.12/site-packages/spacy/pipeline/transition_parser.pyx:1\u001b[0m, in \u001b[0;36minit spacy.pipeline.transition_parser\u001b[0;34m()\u001b[0m\n",
      "File \u001b[0;32m/usr/lib/python3.12/site-packages/spacy/ml/__init__.py:2\u001b[0m\n\u001b[1;32m      1\u001b[0m \u001b[38;5;28;01mfrom\u001b[39;00m \u001b[38;5;21;01m.\u001b[39;00m\u001b[38;5;21;01mcallbacks\u001b[39;00m \u001b[38;5;28;01mimport\u001b[39;00m create_models_with_nvtx_range  \u001b[38;5;66;03m# noqa: F401\u001b[39;00m\n\u001b[0;32m----> 2\u001b[0m \u001b[38;5;28;01mfrom\u001b[39;00m \u001b[38;5;21;01m.\u001b[39;00m\u001b[38;5;21;01mmodels\u001b[39;00m \u001b[38;5;28;01mimport\u001b[39;00m \u001b[38;5;241m*\u001b[39m  \u001b[38;5;66;03m# noqa: F401, F403\u001b[39;00m\n",
      "File \u001b[0;32m/usr/lib/python3.12/site-packages/spacy/ml/models/__init__.py:3\u001b[0m\n\u001b[1;32m      1\u001b[0m \u001b[38;5;28;01mfrom\u001b[39;00m \u001b[38;5;21;01m.\u001b[39;00m\u001b[38;5;21;01mentity_linker\u001b[39;00m \u001b[38;5;28;01mimport\u001b[39;00m \u001b[38;5;241m*\u001b[39m  \u001b[38;5;66;03m# noqa\u001b[39;00m\n\u001b[1;32m      2\u001b[0m \u001b[38;5;28;01mfrom\u001b[39;00m \u001b[38;5;21;01m.\u001b[39;00m\u001b[38;5;21;01mmulti_task\u001b[39;00m \u001b[38;5;28;01mimport\u001b[39;00m \u001b[38;5;241m*\u001b[39m  \u001b[38;5;66;03m# noqa\u001b[39;00m\n\u001b[0;32m----> 3\u001b[0m \u001b[38;5;28;01mfrom\u001b[39;00m \u001b[38;5;21;01m.\u001b[39;00m\u001b[38;5;21;01mparser\u001b[39;00m \u001b[38;5;28;01mimport\u001b[39;00m \u001b[38;5;241m*\u001b[39m  \u001b[38;5;66;03m# noqa\u001b[39;00m\n\u001b[1;32m      4\u001b[0m \u001b[38;5;28;01mfrom\u001b[39;00m \u001b[38;5;21;01m.\u001b[39;00m\u001b[38;5;21;01mspan_finder\u001b[39;00m \u001b[38;5;28;01mimport\u001b[39;00m \u001b[38;5;241m*\u001b[39m  \u001b[38;5;66;03m# noqa\u001b[39;00m\n\u001b[1;32m      5\u001b[0m \u001b[38;5;28;01mfrom\u001b[39;00m \u001b[38;5;21;01m.\u001b[39;00m\u001b[38;5;21;01mspancat\u001b[39;00m \u001b[38;5;28;01mimport\u001b[39;00m \u001b[38;5;241m*\u001b[39m  \u001b[38;5;66;03m# noqa\u001b[39;00m\n",
      "File \u001b[0;32m/usr/lib/python3.12/site-packages/spacy/ml/models/parser.py:11\u001b[0m\n\u001b[1;32m      9\u001b[0m \u001b[38;5;28;01mfrom\u001b[39;00m \u001b[38;5;21;01m.\u001b[39;00m\u001b[38;5;21;01m.\u001b[39;00m\u001b[38;5;21;01m.\u001b[39;00m\u001b[38;5;21;01mutil\u001b[39;00m \u001b[38;5;28;01mimport\u001b[39;00m registry\n\u001b[1;32m     10\u001b[0m \u001b[38;5;28;01mfrom\u001b[39;00m \u001b[38;5;21;01m.\u001b[39;00m\u001b[38;5;21;01m.\u001b[39;00m\u001b[38;5;21;01m_precomputable_affine\u001b[39;00m \u001b[38;5;28;01mimport\u001b[39;00m PrecomputableAffine\n\u001b[0;32m---> 11\u001b[0m \u001b[38;5;28;01mfrom\u001b[39;00m \u001b[38;5;21;01m.\u001b[39;00m\u001b[38;5;21;01m.\u001b[39;00m\u001b[38;5;21;01mtb_framework\u001b[39;00m \u001b[38;5;28;01mimport\u001b[39;00m TransitionModel\n\u001b[1;32m     14\u001b[0m \u001b[38;5;129m@registry\u001b[39m\u001b[38;5;241m.\u001b[39marchitectures(\u001b[38;5;124m\"\u001b[39m\u001b[38;5;124mspacy.TransitionBasedParser.v2\u001b[39m\u001b[38;5;124m\"\u001b[39m)\n\u001b[1;32m     15\u001b[0m \u001b[38;5;28;01mdef\u001b[39;00m \u001b[38;5;21mbuild_tb_parser_model\u001b[39m(\n\u001b[1;32m     16\u001b[0m     tok2vec: Model[List[Doc], List[Floats2d]],\n\u001b[0;32m   (...)\u001b[0m\n\u001b[1;32m     22\u001b[0m     nO: Optional[\u001b[38;5;28mint\u001b[39m] \u001b[38;5;241m=\u001b[39m \u001b[38;5;28;01mNone\u001b[39;00m,\n\u001b[1;32m     23\u001b[0m ) \u001b[38;5;241m-\u001b[39m\u001b[38;5;241m>\u001b[39m Model:\n\u001b[1;32m     24\u001b[0m \u001b[38;5;250m    \u001b[39m\u001b[38;5;124;03m\"\"\"\u001b[39;00m\n\u001b[1;32m     25\u001b[0m \u001b[38;5;124;03m    Build a transition-based parser model. Can apply to NER or dependency-parsing.\u001b[39;00m\n\u001b[1;32m     26\u001b[0m \n\u001b[0;32m   (...)\u001b[0m\n\u001b[1;32m     65\u001b[0m \u001b[38;5;124;03m        disk.\u001b[39;00m\n\u001b[1;32m     66\u001b[0m \u001b[38;5;124;03m    \"\"\"\u001b[39;00m\n",
      "File \u001b[0;32m/usr/lib/python3.12/site-packages/spacy/ml/tb_framework.py:4\u001b[0m\n\u001b[1;32m      1\u001b[0m \u001b[38;5;28;01mfrom\u001b[39;00m \u001b[38;5;21;01mthinc\u001b[39;00m\u001b[38;5;21;01m.\u001b[39;00m\u001b[38;5;21;01mapi\u001b[39;00m \u001b[38;5;28;01mimport\u001b[39;00m Model, noop\n\u001b[1;32m      3\u001b[0m \u001b[38;5;28;01mfrom\u001b[39;00m \u001b[38;5;21;01m.\u001b[39;00m\u001b[38;5;21;01m.\u001b[39;00m\u001b[38;5;21;01mutil\u001b[39;00m \u001b[38;5;28;01mimport\u001b[39;00m registry\n\u001b[0;32m----> 4\u001b[0m \u001b[38;5;28;01mfrom\u001b[39;00m \u001b[38;5;21;01m.\u001b[39;00m\u001b[38;5;21;01mparser_model\u001b[39;00m \u001b[38;5;28;01mimport\u001b[39;00m ParserStepModel\n\u001b[1;32m      7\u001b[0m \u001b[38;5;129m@registry\u001b[39m\u001b[38;5;241m.\u001b[39mlayers(\u001b[38;5;124m\"\u001b[39m\u001b[38;5;124mspacy.TransitionModel.v1\u001b[39m\u001b[38;5;124m\"\u001b[39m)\n\u001b[1;32m      8\u001b[0m \u001b[38;5;28;01mdef\u001b[39;00m \u001b[38;5;21mTransitionModel\u001b[39m(\n\u001b[1;32m      9\u001b[0m     tok2vec, lower, upper, resize_output, dropout\u001b[38;5;241m=\u001b[39m\u001b[38;5;241m0.2\u001b[39m, unseen_classes\u001b[38;5;241m=\u001b[39m\u001b[38;5;28mset\u001b[39m()\n\u001b[1;32m     10\u001b[0m ):\n\u001b[1;32m     11\u001b[0m \u001b[38;5;250m    \u001b[39m\u001b[38;5;124;03m\"\"\"Set up a stepwise transition-based model\"\"\"\u001b[39;00m\n",
      "File \u001b[0;32m/usr/lib/python3.12/site-packages/spacy/ml/parser_model.pyx:1\u001b[0m, in \u001b[0;36minit spacy.ml.parser_model\u001b[0;34m()\u001b[0m\n",
      "\u001b[0;31mModuleNotFoundError\u001b[0m: No module named 'thinc.backends.linalg'"
     ]
    }
   ],
   "source": [
    "import textacy\n",
    "\n",
    "from textacy.text_utils import KWIC\n",
    "\n",
    "def kwic(doc_series, keyword, window=35, print_samples=5):\n",
    "\n",
    "    def add_kwic(text):\n",
    "        kwic_list.extend(KWIC(text, keyword, ignore_case=True, \n",
    "                              window_width=window, print_only=False))\n",
    "\n",
    "    kwic_list = []\n",
    "    doc_series.progress_map(add_kwic)\n",
    "\n",
    "    if print_samples is None or print_samples==0:\n",
    "        return kwic_list\n",
    "    else:\n",
    "        k = min(print_samples, len(kwic_list))\n",
    "        print(f\"{k} random samples out of {len(kwic_list)} \" + \\\n",
    "              f\"contexts for '{keyword}':\")\n",
    "        for sample in random.sample(list(kwic_list), k):\n",
    "            print(re.sub(r'[\\n\\t]', ' ', sample[0])+'  '+ \\\n",
    "                  sample[1]+'  '+\\\n",
    "                  re.sub(r'[\\n\\t]', ' ', sample[2]))\n",
    "            \n",
    "\n",
    "random.seed(22) ###\n",
    "kwic(df[df['year'] == 2015]['text'], 'sdgs', print_samples=5)"
   ]
  },
  {
   "cell_type": "markdown",
   "metadata": {},
   "source": [
    "# Analizando N-Grams\n",
    "Existen una gran cantidad de palabras que están conformadas por la unión de otras palabras, ya sea mediante una unión directa, como es *motorcycle*, o unidas mediante guión, como *self-defense* (utilizo palabras en inglés porque en la gran mayoría de casos se van a procesar datos escritos en inglés, además de que las palabras unidas por guiones son más comunes en este idioma y ofrecen un mejor contexto para la comprensión de lo que se trata de explicar en este apartado).\n",
    "\n",
    "Es por estos casos por los que se analizan los N-Grams, de este modo, dos tokens distintos pueden considerarse como una única unidad.\n",
    "\n",
    "Partiendo de que n-grams de longitud igual a 1 son palabras únicas, para este análisis se suele trabajar con bigrams (longitud 2).\n",
    "\n",
    "La función a continuación muestra como una secuencia de distintos tokens puede convertirse a bigrams."
   ]
  },
  {
   "cell_type": "code",
   "execution_count": null,
   "metadata": {},
   "outputs": [
    {
     "ename": "NameError",
     "evalue": "name 'tokenize' is not defined",
     "output_type": "error",
     "traceback": [
      "\u001b[0;31m---------------------------------------------------------------------------\u001b[0m",
      "\u001b[0;31mNameError\u001b[0m                                 Traceback (most recent call last)",
      "Cell \u001b[0;32mIn[1], line 5\u001b[0m\n\u001b[1;32m      2\u001b[0m     \u001b[38;5;28;01mreturn\u001b[39;00m [sep\u001b[38;5;241m.\u001b[39mjoin(ngram) \u001b[38;5;28;01mfor\u001b[39;00m ngram \u001b[38;5;129;01min\u001b[39;00m \u001b[38;5;28mzip\u001b[39m(\u001b[38;5;241m*\u001b[39m[tokens[i:] \u001b[38;5;28;01mfor\u001b[39;00m i \u001b[38;5;129;01min\u001b[39;00m \u001b[38;5;28mrange\u001b[39m(n)])]\n\u001b[1;32m      4\u001b[0m text \u001b[38;5;241m=\u001b[39m \u001b[38;5;124m\"\u001b[39m\u001b[38;5;124mSe vive una situación extrema en la Franja de Gaza\u001b[39m\u001b[38;5;124m\"\u001b[39m\n\u001b[0;32m----> 5\u001b[0m tokens \u001b[38;5;241m=\u001b[39m \u001b[43mtokenize\u001b[49m(text)\n\u001b[1;32m      6\u001b[0m \u001b[38;5;28mprint\u001b[39m(\u001b[38;5;124m\"\u001b[39m\u001b[38;5;124m|\u001b[39m\u001b[38;5;124m\"\u001b[39m\u001b[38;5;241m.\u001b[39mjoin(ngrams(tokens, \u001b[38;5;241m2\u001b[39m)))\n",
      "\u001b[0;31mNameError\u001b[0m: name 'tokenize' is not defined"
     ]
    }
   ],
   "source": [
    "def ngrams(tokens, n=2, sep=' '):\n",
    "    return [sep.join(ngram) for ngram in zip(*[tokens[i:] for i in range(n)])]\n",
    "\n",
    "text = \"Se vive una situación extrema en la Franja de Gaza\"\n",
    "tokens = tokenize(text)\n",
    "print(\"|\".join(ngrams(tokens, 2)))"
   ]
  },
  {
   "cell_type": "markdown",
   "metadata": {},
   "source": [
    "Como la mayoría de n-grams contienen *stop words*, como se ha visto en el ejemplo anterior, es recomendable excluirlas de la información a analizar para obtener unos resultados óptimos"
   ]
  },
  {
   "cell_type": "code",
   "execution_count": null,
   "metadata": {},
   "outputs": [
    {
     "name": "stdout",
     "output_type": "stream",
     "text": [
      "Bigrams: La ciberseguridad|ciberseguridad es|es importante|importante pero|pero más|más importante|importante que|que la|la ciberseguridad|ciberseguridad es|es la|la salud\n",
      "Trigrams: La ciberseguridad es|ciberseguridad es importante|es importante pero|importante pero más|pero más importante|más importante que|importante que la|que la ciberseguridad|la ciberseguridad es|ciberseguridad es la|es la salud\n"
     ]
    }
   ],
   "source": [
    "def ngrams(tokens, n=2, sep=' ', stopwords=set()):\n",
    "    return [sep.join(ngram) for ngram in zip(*[tokens[i:] for i in range(n)])\n",
    "            if len([t for t in ngram if t in stopwords])==0]\n",
    "\n",
    "print(\"Bigrams:\", \"|\".join(ngrams(tokens, 2, stopwords=stopwords)))\n",
    "print(\"Trigrams:\", \"|\".join(ngrams(tokens, 3, stopwords=stopwords)))"
   ]
  },
  {
   "cell_type": "markdown",
   "metadata": {},
   "source": [
    "Una vez hecho esto, podemos añadir una nueva columna a nuestro Data Frame que contenga todos los n-grams que se hayan analizado e incluirlos en el conteo de palabras, pudiendo así obtener los n-grams con más frecuencia del texto también.º"
   ]
  },
  {
   "cell_type": "code",
   "execution_count": null,
   "metadata": {},
   "outputs": [
    {
     "name": "stderr",
     "output_type": "stream",
     "text": [
      "100%|██████████| 7507/7507 [00:15<00:00, 478.43it/s]\n",
      "100%|██████████| 7507/7507 [00:07<00:00, 965.46it/s] \n",
      "100%|██████████| 7507/7507 [00:02<00:00, 3402.12it/s]\n"
     ]
    },
    {
     "data": {
      "text/html": [
       "<div>\n",
       "<style scoped>\n",
       "    .dataframe tbody tr th:only-of-type {\n",
       "        vertical-align: middle;\n",
       "    }\n",
       "\n",
       "    .dataframe tbody tr th {\n",
       "        vertical-align: top;\n",
       "    }\n",
       "\n",
       "    .dataframe thead th {\n",
       "        text-align: right;\n",
       "    }\n",
       "</style>\n",
       "<table border=\"1\" class=\"dataframe tex2jax_ignore\">\n",
       "  <thead>\n",
       "    <tr style=\"text-align: right;\">\n",
       "      <th></th>\n",
       "      <th>freq</th>\n",
       "    </tr>\n",
       "    <tr>\n",
       "      <th>token</th>\n",
       "      <th></th>\n",
       "    </tr>\n",
       "  </thead>\n",
       "  <tbody>\n",
       "    <tr>\n",
       "      <th>united nations</th>\n",
       "      <td>103236</td>\n",
       "    </tr>\n",
       "    <tr>\n",
       "      <th>international community</th>\n",
       "      <td>27786</td>\n",
       "    </tr>\n",
       "    <tr>\n",
       "      <th>general assembly</th>\n",
       "      <td>27096</td>\n",
       "    </tr>\n",
       "    <tr>\n",
       "      <th>security council</th>\n",
       "      <td>20961</td>\n",
       "    </tr>\n",
       "    <tr>\n",
       "      <th>human rights</th>\n",
       "      <td>19856</td>\n",
       "    </tr>\n",
       "  </tbody>\n",
       "</table>\n",
       "</div>"
      ],
      "text/plain": [
       "                           freq\n",
       "token                          \n",
       "united nations           103236\n",
       "international community   27786\n",
       "general assembly          27096\n",
       "security council          20961\n",
       "human rights              19856"
      ]
     },
     "execution_count": 23,
     "metadata": {},
     "output_type": "execute_result"
    }
   ],
   "source": [
    "df['bigrams'] = df['text'].progress_apply(prepare, pipeline=[str.lower, tokenize]) \\\n",
    "                          .progress_apply(ngrams, n=2, stopwords=stopwords)\n",
    "\n",
    "count_words(df, 'bigrams').head(5)"
   ]
  }
 ],
 "metadata": {
  "kernelspec": {
   "display_name": ".venv",
   "language": "python",
   "name": "python3"
  },
  "language_info": {
   "codemirror_mode": {
    "name": "ipython",
    "version": 3
   },
   "file_extension": ".py",
   "mimetype": "text/x-python",
   "name": "python",
   "nbconvert_exporter": "python",
   "pygments_lexer": "ipython3",
   "version": "3.12.7"
  }
 },
 "nbformat": 4,
 "nbformat_minor": 2
}
